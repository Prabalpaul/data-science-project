{
 "cells": [
  {
   "cell_type": "code",
   "execution_count": 445,
   "metadata": {},
   "outputs": [],
   "source": [
    "#import basic library\n",
    "import numpy as np\n",
    "import pandas as pd\n",
    "import matplotlib.pyplot as plt\n",
    "import seaborn as sns"
   ]
  },
  {
   "cell_type": "code",
   "execution_count": 446,
   "metadata": {},
   "outputs": [],
   "source": [
    "#import dataset\n",
    "car=pd.read_csv('CarPrice_Assignment.csv')"
   ]
  },
  {
   "cell_type": "code",
   "execution_count": 447,
   "metadata": {},
   "outputs": [
    {
     "data": {
      "text/html": [
       "<div>\n",
       "<style scoped>\n",
       "    .dataframe tbody tr th:only-of-type {\n",
       "        vertical-align: middle;\n",
       "    }\n",
       "\n",
       "    .dataframe tbody tr th {\n",
       "        vertical-align: top;\n",
       "    }\n",
       "\n",
       "    .dataframe thead th {\n",
       "        text-align: right;\n",
       "    }\n",
       "</style>\n",
       "<table border=\"1\" class=\"dataframe\">\n",
       "  <thead>\n",
       "    <tr style=\"text-align: right;\">\n",
       "      <th></th>\n",
       "      <th>car_ID</th>\n",
       "      <th>symboling</th>\n",
       "      <th>CarName</th>\n",
       "      <th>fueltype</th>\n",
       "      <th>aspiration</th>\n",
       "      <th>doornumber</th>\n",
       "      <th>carbody</th>\n",
       "      <th>drivewheel</th>\n",
       "      <th>enginelocation</th>\n",
       "      <th>wheelbase</th>\n",
       "      <th>...</th>\n",
       "      <th>enginesize</th>\n",
       "      <th>fuelsystem</th>\n",
       "      <th>boreratio</th>\n",
       "      <th>stroke</th>\n",
       "      <th>compressionratio</th>\n",
       "      <th>horsepower</th>\n",
       "      <th>peakrpm</th>\n",
       "      <th>citympg</th>\n",
       "      <th>highwaympg</th>\n",
       "      <th>price</th>\n",
       "    </tr>\n",
       "  </thead>\n",
       "  <tbody>\n",
       "    <tr>\n",
       "      <th>0</th>\n",
       "      <td>1</td>\n",
       "      <td>3</td>\n",
       "      <td>alfa-romero giulia</td>\n",
       "      <td>gas</td>\n",
       "      <td>std</td>\n",
       "      <td>two</td>\n",
       "      <td>convertible</td>\n",
       "      <td>rwd</td>\n",
       "      <td>front</td>\n",
       "      <td>88.6</td>\n",
       "      <td>...</td>\n",
       "      <td>130</td>\n",
       "      <td>mpfi</td>\n",
       "      <td>3.47</td>\n",
       "      <td>2.68</td>\n",
       "      <td>9.0</td>\n",
       "      <td>111</td>\n",
       "      <td>5000</td>\n",
       "      <td>21</td>\n",
       "      <td>27</td>\n",
       "      <td>13495.0</td>\n",
       "    </tr>\n",
       "    <tr>\n",
       "      <th>1</th>\n",
       "      <td>2</td>\n",
       "      <td>3</td>\n",
       "      <td>alfa-romero stelvio</td>\n",
       "      <td>gas</td>\n",
       "      <td>std</td>\n",
       "      <td>two</td>\n",
       "      <td>convertible</td>\n",
       "      <td>rwd</td>\n",
       "      <td>front</td>\n",
       "      <td>88.6</td>\n",
       "      <td>...</td>\n",
       "      <td>130</td>\n",
       "      <td>mpfi</td>\n",
       "      <td>3.47</td>\n",
       "      <td>2.68</td>\n",
       "      <td>9.0</td>\n",
       "      <td>111</td>\n",
       "      <td>5000</td>\n",
       "      <td>21</td>\n",
       "      <td>27</td>\n",
       "      <td>16500.0</td>\n",
       "    </tr>\n",
       "    <tr>\n",
       "      <th>2</th>\n",
       "      <td>3</td>\n",
       "      <td>1</td>\n",
       "      <td>alfa-romero Quadrifoglio</td>\n",
       "      <td>gas</td>\n",
       "      <td>std</td>\n",
       "      <td>two</td>\n",
       "      <td>hatchback</td>\n",
       "      <td>rwd</td>\n",
       "      <td>front</td>\n",
       "      <td>94.5</td>\n",
       "      <td>...</td>\n",
       "      <td>152</td>\n",
       "      <td>mpfi</td>\n",
       "      <td>2.68</td>\n",
       "      <td>3.47</td>\n",
       "      <td>9.0</td>\n",
       "      <td>154</td>\n",
       "      <td>5000</td>\n",
       "      <td>19</td>\n",
       "      <td>26</td>\n",
       "      <td>16500.0</td>\n",
       "    </tr>\n",
       "    <tr>\n",
       "      <th>3</th>\n",
       "      <td>4</td>\n",
       "      <td>2</td>\n",
       "      <td>audi 100 ls</td>\n",
       "      <td>gas</td>\n",
       "      <td>std</td>\n",
       "      <td>four</td>\n",
       "      <td>sedan</td>\n",
       "      <td>fwd</td>\n",
       "      <td>front</td>\n",
       "      <td>99.8</td>\n",
       "      <td>...</td>\n",
       "      <td>109</td>\n",
       "      <td>mpfi</td>\n",
       "      <td>3.19</td>\n",
       "      <td>3.40</td>\n",
       "      <td>10.0</td>\n",
       "      <td>102</td>\n",
       "      <td>5500</td>\n",
       "      <td>24</td>\n",
       "      <td>30</td>\n",
       "      <td>13950.0</td>\n",
       "    </tr>\n",
       "    <tr>\n",
       "      <th>4</th>\n",
       "      <td>5</td>\n",
       "      <td>2</td>\n",
       "      <td>audi 100ls</td>\n",
       "      <td>gas</td>\n",
       "      <td>std</td>\n",
       "      <td>four</td>\n",
       "      <td>sedan</td>\n",
       "      <td>4wd</td>\n",
       "      <td>front</td>\n",
       "      <td>99.4</td>\n",
       "      <td>...</td>\n",
       "      <td>136</td>\n",
       "      <td>mpfi</td>\n",
       "      <td>3.19</td>\n",
       "      <td>3.40</td>\n",
       "      <td>8.0</td>\n",
       "      <td>115</td>\n",
       "      <td>5500</td>\n",
       "      <td>18</td>\n",
       "      <td>22</td>\n",
       "      <td>17450.0</td>\n",
       "    </tr>\n",
       "  </tbody>\n",
       "</table>\n",
       "<p>5 rows × 26 columns</p>\n",
       "</div>"
      ],
      "text/plain": [
       "   car_ID  symboling                   CarName fueltype aspiration doornumber  \\\n",
       "0       1          3        alfa-romero giulia      gas        std        two   \n",
       "1       2          3       alfa-romero stelvio      gas        std        two   \n",
       "2       3          1  alfa-romero Quadrifoglio      gas        std        two   \n",
       "3       4          2               audi 100 ls      gas        std       four   \n",
       "4       5          2                audi 100ls      gas        std       four   \n",
       "\n",
       "       carbody drivewheel enginelocation  wheelbase   ...     enginesize  \\\n",
       "0  convertible        rwd          front       88.6   ...            130   \n",
       "1  convertible        rwd          front       88.6   ...            130   \n",
       "2    hatchback        rwd          front       94.5   ...            152   \n",
       "3        sedan        fwd          front       99.8   ...            109   \n",
       "4        sedan        4wd          front       99.4   ...            136   \n",
       "\n",
       "   fuelsystem  boreratio  stroke compressionratio horsepower  peakrpm citympg  \\\n",
       "0        mpfi       3.47    2.68              9.0        111     5000      21   \n",
       "1        mpfi       3.47    2.68              9.0        111     5000      21   \n",
       "2        mpfi       2.68    3.47              9.0        154     5000      19   \n",
       "3        mpfi       3.19    3.40             10.0        102     5500      24   \n",
       "4        mpfi       3.19    3.40              8.0        115     5500      18   \n",
       "\n",
       "   highwaympg    price  \n",
       "0          27  13495.0  \n",
       "1          27  16500.0  \n",
       "2          26  16500.0  \n",
       "3          30  13950.0  \n",
       "4          22  17450.0  \n",
       "\n",
       "[5 rows x 26 columns]"
      ]
     },
     "execution_count": 447,
     "metadata": {},
     "output_type": "execute_result"
    }
   ],
   "source": [
    "#Read dataset\n",
    "car.head()"
   ]
  },
  {
   "cell_type": "code",
   "execution_count": 448,
   "metadata": {},
   "outputs": [
    {
     "data": {
      "text/plain": [
       "car_ID              0\n",
       "symboling           0\n",
       "CarName             0\n",
       "fueltype            0\n",
       "aspiration          0\n",
       "doornumber          0\n",
       "carbody             0\n",
       "drivewheel          0\n",
       "enginelocation      0\n",
       "wheelbase           0\n",
       "carlength           0\n",
       "carwidth            0\n",
       "carheight           0\n",
       "curbweight          0\n",
       "enginetype          0\n",
       "cylindernumber      0\n",
       "enginesize          0\n",
       "fuelsystem          0\n",
       "boreratio           0\n",
       "stroke              0\n",
       "compressionratio    0\n",
       "horsepower          0\n",
       "peakrpm             0\n",
       "citympg             0\n",
       "highwaympg          0\n",
       "price               0\n",
       "dtype: int64"
      ]
     },
     "execution_count": 448,
     "metadata": {},
     "output_type": "execute_result"
    }
   ],
   "source": [
    "#check null values in each columns\n",
    "car.isnull().sum()"
   ]
  },
  {
   "cell_type": "markdown",
   "metadata": {},
   "source": [
    "We can see that dataset is fully clean and there is no null values present"
   ]
  },
  {
   "cell_type": "code",
   "execution_count": 449,
   "metadata": {
    "scrolled": true
   },
   "outputs": [
    {
     "name": "stdout",
     "output_type": "stream",
     "text": [
      "Car dataframe shape is: \n",
      " (205, 26)\n",
      "\n",
      "\n",
      "\n",
      "<class 'pandas.core.frame.DataFrame'>\n",
      "RangeIndex: 205 entries, 0 to 204\n",
      "Data columns (total 26 columns):\n",
      "car_ID              205 non-null int64\n",
      "symboling           205 non-null int64\n",
      "CarName             205 non-null object\n",
      "fueltype            205 non-null object\n",
      "aspiration          205 non-null object\n",
      "doornumber          205 non-null object\n",
      "carbody             205 non-null object\n",
      "drivewheel          205 non-null object\n",
      "enginelocation      205 non-null object\n",
      "wheelbase           205 non-null float64\n",
      "carlength           205 non-null float64\n",
      "carwidth            205 non-null float64\n",
      "carheight           205 non-null float64\n",
      "curbweight          205 non-null int64\n",
      "enginetype          205 non-null object\n",
      "cylindernumber      205 non-null object\n",
      "enginesize          205 non-null int64\n",
      "fuelsystem          205 non-null object\n",
      "boreratio           205 non-null float64\n",
      "stroke              205 non-null float64\n",
      "compressionratio    205 non-null float64\n",
      "horsepower          205 non-null int64\n",
      "peakrpm             205 non-null int64\n",
      "citympg             205 non-null int64\n",
      "highwaympg          205 non-null int64\n",
      "price               205 non-null float64\n",
      "dtypes: float64(8), int64(8), object(10)\n",
      "memory usage: 41.7+ KB\n",
      "datatype of car dataframe is \n",
      " None\n",
      "\n",
      "\n",
      "\n",
      "Describe of car dataframe is \n",
      "            car_ID   symboling   wheelbase   carlength    carwidth   carheight  \\\n",
      "count  205.000000  205.000000  205.000000  205.000000  205.000000  205.000000   \n",
      "mean   103.000000    0.834146   98.756585  174.049268   65.907805   53.724878   \n",
      "std     59.322565    1.245307    6.021776   12.337289    2.145204    2.443522   \n",
      "min      1.000000   -2.000000   86.600000  141.100000   60.300000   47.800000   \n",
      "25%     52.000000    0.000000   94.500000  166.300000   64.100000   52.000000   \n",
      "50%    103.000000    1.000000   97.000000  173.200000   65.500000   54.100000   \n",
      "75%    154.000000    2.000000  102.400000  183.100000   66.900000   55.500000   \n",
      "max    205.000000    3.000000  120.900000  208.100000   72.300000   59.800000   \n",
      "\n",
      "        curbweight  enginesize   boreratio      stroke  compressionratio  \\\n",
      "count   205.000000  205.000000  205.000000  205.000000        205.000000   \n",
      "mean   2555.565854  126.907317    3.329756    3.255415         10.142537   \n",
      "std     520.680204   41.642693    0.270844    0.313597          3.972040   \n",
      "min    1488.000000   61.000000    2.540000    2.070000          7.000000   \n",
      "25%    2145.000000   97.000000    3.150000    3.110000          8.600000   \n",
      "50%    2414.000000  120.000000    3.310000    3.290000          9.000000   \n",
      "75%    2935.000000  141.000000    3.580000    3.410000          9.400000   \n",
      "max    4066.000000  326.000000    3.940000    4.170000         23.000000   \n",
      "\n",
      "       horsepower      peakrpm     citympg  highwaympg         price  \n",
      "count  205.000000   205.000000  205.000000  205.000000    205.000000  \n",
      "mean   104.117073  5125.121951   25.219512   30.751220  13276.710571  \n",
      "std     39.544167   476.985643    6.542142    6.886443   7988.852332  \n",
      "min     48.000000  4150.000000   13.000000   16.000000   5118.000000  \n",
      "25%     70.000000  4800.000000   19.000000   25.000000   7788.000000  \n",
      "50%     95.000000  5200.000000   24.000000   30.000000  10295.000000  \n",
      "75%    116.000000  5500.000000   30.000000   34.000000  16503.000000  \n",
      "max    288.000000  6600.000000   49.000000   54.000000  45400.000000  \n"
     ]
    }
   ],
   "source": [
    "print(\"Car dataframe shape is: \\n\",car.shape)\n",
    "print(\"\\n\\n\")\n",
    "print(\"datatype of car dataframe is \\n\",car.info())\n",
    "print(\"\\n\\n\")\n",
    "print(\"Describe of car dataframe is \\n\",car.describe())"
   ]
  },
  {
   "cell_type": "markdown",
   "metadata": {},
   "source": [
    "split car manufacturer and model"
   ]
  },
  {
   "cell_type": "code",
   "execution_count": 450,
   "metadata": {},
   "outputs": [],
   "source": [
    "\n",
    "def splitcar(x):\n",
    "    return(x.split(\" \")[0])\n",
    "\n"
   ]
  },
  {
   "cell_type": "code",
   "execution_count": 451,
   "metadata": {},
   "outputs": [],
   "source": [
    "car['car']=car['CarName'].apply(splitcar)"
   ]
  },
  {
   "cell_type": "code",
   "execution_count": null,
   "metadata": {},
   "outputs": [],
   "source": []
  },
  {
   "cell_type": "code",
   "execution_count": 452,
   "metadata": {},
   "outputs": [],
   "source": [
    "#split Carname column\n",
    "car.drop(['CarName'],axis=1,inplace=True)"
   ]
  },
  {
   "cell_type": "code",
   "execution_count": 453,
   "metadata": {},
   "outputs": [
    {
     "data": {
      "text/plain": [
       "(205, 26)"
      ]
     },
     "execution_count": 453,
     "metadata": {},
     "output_type": "execute_result"
    }
   ],
   "source": [
    "car.shape\n",
    "#Now I can see total 27 columns are present including target variable price.\n",
    "#I have to find impotant variables contributing in car price "
   ]
  },
  {
   "cell_type": "code",
   "execution_count": 454,
   "metadata": {},
   "outputs": [],
   "source": [
    "#add new derived column\n",
    "#stroke ratio=stroke/boreratio\n",
    "#area=length*width*height\n",
    "\n",
    "#car['stroke_ratio']=car['stroke']/car['boreratio']\n",
    "#car['area']=car['carlength']*car['carwidth']*car['carheight']\n",
    "#car['area']=round(car['area'])\n",
    "#I created model using area and stroke ratio but that is not helpful.Thus removing those columns again"
   ]
  },
  {
   "cell_type": "code",
   "execution_count": null,
   "metadata": {},
   "outputs": [],
   "source": []
  },
  {
   "cell_type": "markdown",
   "metadata": {},
   "source": [
    "# Data Cleaning"
   ]
  },
  {
   "cell_type": "code",
   "execution_count": 455,
   "metadata": {},
   "outputs": [
    {
     "data": {
      "text/html": [
       "<div>\n",
       "<style scoped>\n",
       "    .dataframe tbody tr th:only-of-type {\n",
       "        vertical-align: middle;\n",
       "    }\n",
       "\n",
       "    .dataframe tbody tr th {\n",
       "        vertical-align: top;\n",
       "    }\n",
       "\n",
       "    .dataframe thead th {\n",
       "        text-align: right;\n",
       "    }\n",
       "</style>\n",
       "<table border=\"1\" class=\"dataframe\">\n",
       "  <thead>\n",
       "    <tr style=\"text-align: right;\">\n",
       "      <th></th>\n",
       "      <th>car_ID</th>\n",
       "      <th>symboling</th>\n",
       "      <th>fueltype</th>\n",
       "      <th>aspiration</th>\n",
       "      <th>doornumber</th>\n",
       "      <th>carbody</th>\n",
       "      <th>drivewheel</th>\n",
       "      <th>enginelocation</th>\n",
       "      <th>wheelbase</th>\n",
       "      <th>carlength</th>\n",
       "      <th>...</th>\n",
       "      <th>fuelsystem</th>\n",
       "      <th>boreratio</th>\n",
       "      <th>stroke</th>\n",
       "      <th>compressionratio</th>\n",
       "      <th>horsepower</th>\n",
       "      <th>peakrpm</th>\n",
       "      <th>citympg</th>\n",
       "      <th>highwaympg</th>\n",
       "      <th>price</th>\n",
       "      <th>car</th>\n",
       "    </tr>\n",
       "  </thead>\n",
       "  <tbody>\n",
       "    <tr>\n",
       "      <th>0</th>\n",
       "      <td>1</td>\n",
       "      <td>3</td>\n",
       "      <td>gas</td>\n",
       "      <td>std</td>\n",
       "      <td>two</td>\n",
       "      <td>convertible</td>\n",
       "      <td>rwd</td>\n",
       "      <td>front</td>\n",
       "      <td>88.6</td>\n",
       "      <td>168.8</td>\n",
       "      <td>...</td>\n",
       "      <td>mpfi</td>\n",
       "      <td>3.47</td>\n",
       "      <td>2.68</td>\n",
       "      <td>9.0</td>\n",
       "      <td>111</td>\n",
       "      <td>5000</td>\n",
       "      <td>21</td>\n",
       "      <td>27</td>\n",
       "      <td>13495.0</td>\n",
       "      <td>alfa-romero</td>\n",
       "    </tr>\n",
       "    <tr>\n",
       "      <th>1</th>\n",
       "      <td>2</td>\n",
       "      <td>3</td>\n",
       "      <td>gas</td>\n",
       "      <td>std</td>\n",
       "      <td>two</td>\n",
       "      <td>convertible</td>\n",
       "      <td>rwd</td>\n",
       "      <td>front</td>\n",
       "      <td>88.6</td>\n",
       "      <td>168.8</td>\n",
       "      <td>...</td>\n",
       "      <td>mpfi</td>\n",
       "      <td>3.47</td>\n",
       "      <td>2.68</td>\n",
       "      <td>9.0</td>\n",
       "      <td>111</td>\n",
       "      <td>5000</td>\n",
       "      <td>21</td>\n",
       "      <td>27</td>\n",
       "      <td>16500.0</td>\n",
       "      <td>alfa-romero</td>\n",
       "    </tr>\n",
       "    <tr>\n",
       "      <th>2</th>\n",
       "      <td>3</td>\n",
       "      <td>1</td>\n",
       "      <td>gas</td>\n",
       "      <td>std</td>\n",
       "      <td>two</td>\n",
       "      <td>hatchback</td>\n",
       "      <td>rwd</td>\n",
       "      <td>front</td>\n",
       "      <td>94.5</td>\n",
       "      <td>171.2</td>\n",
       "      <td>...</td>\n",
       "      <td>mpfi</td>\n",
       "      <td>2.68</td>\n",
       "      <td>3.47</td>\n",
       "      <td>9.0</td>\n",
       "      <td>154</td>\n",
       "      <td>5000</td>\n",
       "      <td>19</td>\n",
       "      <td>26</td>\n",
       "      <td>16500.0</td>\n",
       "      <td>alfa-romero</td>\n",
       "    </tr>\n",
       "    <tr>\n",
       "      <th>3</th>\n",
       "      <td>4</td>\n",
       "      <td>2</td>\n",
       "      <td>gas</td>\n",
       "      <td>std</td>\n",
       "      <td>four</td>\n",
       "      <td>sedan</td>\n",
       "      <td>fwd</td>\n",
       "      <td>front</td>\n",
       "      <td>99.8</td>\n",
       "      <td>176.6</td>\n",
       "      <td>...</td>\n",
       "      <td>mpfi</td>\n",
       "      <td>3.19</td>\n",
       "      <td>3.40</td>\n",
       "      <td>10.0</td>\n",
       "      <td>102</td>\n",
       "      <td>5500</td>\n",
       "      <td>24</td>\n",
       "      <td>30</td>\n",
       "      <td>13950.0</td>\n",
       "      <td>audi</td>\n",
       "    </tr>\n",
       "    <tr>\n",
       "      <th>4</th>\n",
       "      <td>5</td>\n",
       "      <td>2</td>\n",
       "      <td>gas</td>\n",
       "      <td>std</td>\n",
       "      <td>four</td>\n",
       "      <td>sedan</td>\n",
       "      <td>4wd</td>\n",
       "      <td>front</td>\n",
       "      <td>99.4</td>\n",
       "      <td>176.6</td>\n",
       "      <td>...</td>\n",
       "      <td>mpfi</td>\n",
       "      <td>3.19</td>\n",
       "      <td>3.40</td>\n",
       "      <td>8.0</td>\n",
       "      <td>115</td>\n",
       "      <td>5500</td>\n",
       "      <td>18</td>\n",
       "      <td>22</td>\n",
       "      <td>17450.0</td>\n",
       "      <td>audi</td>\n",
       "    </tr>\n",
       "  </tbody>\n",
       "</table>\n",
       "<p>5 rows × 26 columns</p>\n",
       "</div>"
      ],
      "text/plain": [
       "   car_ID  symboling fueltype aspiration doornumber      carbody drivewheel  \\\n",
       "0       1          3      gas        std        two  convertible        rwd   \n",
       "1       2          3      gas        std        two  convertible        rwd   \n",
       "2       3          1      gas        std        two    hatchback        rwd   \n",
       "3       4          2      gas        std       four        sedan        fwd   \n",
       "4       5          2      gas        std       four        sedan        4wd   \n",
       "\n",
       "  enginelocation  wheelbase  carlength     ...       fuelsystem  boreratio  \\\n",
       "0          front       88.6      168.8     ...             mpfi       3.47   \n",
       "1          front       88.6      168.8     ...             mpfi       3.47   \n",
       "2          front       94.5      171.2     ...             mpfi       2.68   \n",
       "3          front       99.8      176.6     ...             mpfi       3.19   \n",
       "4          front       99.4      176.6     ...             mpfi       3.19   \n",
       "\n",
       "   stroke compressionratio horsepower  peakrpm citympg  highwaympg    price  \\\n",
       "0    2.68              9.0        111     5000      21          27  13495.0   \n",
       "1    2.68              9.0        111     5000      21          27  16500.0   \n",
       "2    3.47              9.0        154     5000      19          26  16500.0   \n",
       "3    3.40             10.0        102     5500      24          30  13950.0   \n",
       "4    3.40              8.0        115     5500      18          22  17450.0   \n",
       "\n",
       "           car  \n",
       "0  alfa-romero  \n",
       "1  alfa-romero  \n",
       "2  alfa-romero  \n",
       "3         audi  \n",
       "4         audi  \n",
       "\n",
       "[5 rows x 26 columns]"
      ]
     },
     "execution_count": 455,
     "metadata": {},
     "output_type": "execute_result"
    }
   ],
   "source": [
    "car.head()"
   ]
  },
  {
   "cell_type": "code",
   "execution_count": 456,
   "metadata": {},
   "outputs": [
    {
     "data": {
      "text/plain": [
       "array(['alfa-romero', 'audi', 'bmw', 'chevrolet', 'dodge', 'honda',\n",
       "       'isuzu', 'jaguar', 'maxda', 'mazda', 'buick', 'mercury',\n",
       "       'mitsubishi', 'Nissan', 'nissan', 'peugeot', 'plymouth', 'porsche',\n",
       "       'porcshce', 'renault', 'saab', 'subaru', 'toyota', 'toyouta',\n",
       "       'vokswagen', 'volkswagen', 'vw', 'volvo'], dtype=object)"
      ]
     },
     "execution_count": 456,
     "metadata": {},
     "output_type": "execute_result"
    }
   ],
   "source": [
    "car['car'].unique()"
   ]
  },
  {
   "cell_type": "markdown",
   "metadata": {},
   "source": [
    "below name error I can see which we need to clean first \n",
    "'Nissan', 'nissan'\n",
    "'porsche', 'porcshce',\n",
    "'toyota', 'toyouta'\n",
    "'vokswagen', 'volkswagen', 'vw'\n",
    "'maxda', 'mazda'"
   ]
  },
  {
   "cell_type": "code",
   "execution_count": 457,
   "metadata": {},
   "outputs": [],
   "source": [
    "#change everything to lower case in car column first\n",
    "car['car']=car['car'].str.lower()"
   ]
  },
  {
   "cell_type": "code",
   "execution_count": 458,
   "metadata": {},
   "outputs": [
    {
     "data": {
      "text/plain": [
       "array(['alfa-romero', 'audi', 'bmw', 'chevrolet', 'dodge', 'honda',\n",
       "       'isuzu', 'jaguar', 'maxda', 'mazda', 'buick', 'mercury',\n",
       "       'mitsubishi', 'nissan', 'peugeot', 'plymouth', 'porsche',\n",
       "       'porcshce', 'renault', 'saab', 'subaru', 'toyota', 'toyouta',\n",
       "       'vokswagen', 'volkswagen', 'vw', 'volvo'], dtype=object)"
      ]
     },
     "execution_count": 458,
     "metadata": {},
     "output_type": "execute_result"
    }
   ],
   "source": [
    "car['car'].unique()\n",
    "#nissan naming issue is solved "
   ]
  },
  {
   "cell_type": "code",
   "execution_count": 459,
   "metadata": {},
   "outputs": [],
   "source": [
    "car['car'].replace(to_replace='porcshce',value='porsche',inplace=True)\n",
    "car['car'].replace(to_replace='toyouta',value='toyota',inplace=True)\n",
    "car['car'].replace(to_replace='vokswagen',value='volkswagen',inplace=True)\n",
    "car['car'].replace(to_replace='vw',value='volkswagen',inplace=True)\n",
    "car['car'].replace(to_replace='maxda',value='mazda',inplace=True)\n"
   ]
  },
  {
   "cell_type": "code",
   "execution_count": 460,
   "metadata": {},
   "outputs": [
    {
     "data": {
      "text/plain": [
       "22"
      ]
     },
     "execution_count": 460,
     "metadata": {},
     "output_type": "execute_result"
    }
   ],
   "source": [
    "car['car'].nunique()"
   ]
  },
  {
   "cell_type": "code",
   "execution_count": null,
   "metadata": {},
   "outputs": [],
   "source": []
  },
  {
   "cell_type": "code",
   "execution_count": 461,
   "metadata": {},
   "outputs": [
    {
     "data": {
      "text/plain": [
       "Index(['car_ID', 'symboling', 'fueltype', 'aspiration', 'doornumber',\n",
       "       'carbody', 'drivewheel', 'enginelocation', 'wheelbase', 'carlength',\n",
       "       'carwidth', 'carheight', 'curbweight', 'enginetype', 'cylindernumber',\n",
       "       'enginesize', 'fuelsystem', 'boreratio', 'stroke', 'compressionratio',\n",
       "       'horsepower', 'peakrpm', 'citympg', 'highwaympg', 'price', 'car'],\n",
       "      dtype='object')"
      ]
     },
     "execution_count": 461,
     "metadata": {},
     "output_type": "execute_result"
    }
   ],
   "source": [
    "car.columns"
   ]
  },
  {
   "cell_type": "code",
   "execution_count": 462,
   "metadata": {},
   "outputs": [],
   "source": [
    "#car['car'] is now clear. Spelling mistakes taken care already"
   ]
  },
  {
   "cell_type": "code",
   "execution_count": 463,
   "metadata": {
    "scrolled": true
   },
   "outputs": [
    {
     "data": {
      "text/plain": [
       "<matplotlib.axes._subplots.AxesSubplot at 0x23f54e65ef0>"
      ]
     },
     "execution_count": 463,
     "metadata": {},
     "output_type": "execute_result"
    },
    {
     "data": {
      "image/png": "[encoded data removed]",
      "text/plain": [
       "<Figure size 1600x1600 with 2 Axes>"
      ]
     },
     "metadata": {
      "needs_background": "light"
     },
     "output_type": "display_data"
    }
   ],
   "source": [
    "plt.figure(figsize=(20,20),dpi=80)\n",
    "sns.heatmap(car.corr(),annot=True)\n",
    "#'wheelbase', 'carlength','carwidth', 'curbweight', 'enginetype' , 'horsepower' is highly correlated with price \n",
    "#But we don't know if one variable is influening other variable or not."
   ]
  },
  {
   "cell_type": "code",
   "execution_count": 464,
   "metadata": {},
   "outputs": [
    {
     "data": {
      "text/html": [
       "<div>\n",
       "<style scoped>\n",
       "    .dataframe tbody tr th:only-of-type {\n",
       "        vertical-align: middle;\n",
       "    }\n",
       "\n",
       "    .dataframe tbody tr th {\n",
       "        vertical-align: top;\n",
       "    }\n",
       "\n",
       "    .dataframe thead th {\n",
       "        text-align: right;\n",
       "    }\n",
       "</style>\n",
       "<table border=\"1\" class=\"dataframe\">\n",
       "  <thead>\n",
       "    <tr style=\"text-align: right;\">\n",
       "      <th></th>\n",
       "      <th>car_ID</th>\n",
       "      <th>symboling</th>\n",
       "      <th>wheelbase</th>\n",
       "      <th>carlength</th>\n",
       "      <th>carwidth</th>\n",
       "      <th>carheight</th>\n",
       "      <th>curbweight</th>\n",
       "      <th>enginesize</th>\n",
       "      <th>boreratio</th>\n",
       "      <th>stroke</th>\n",
       "      <th>compressionratio</th>\n",
       "      <th>horsepower</th>\n",
       "      <th>peakrpm</th>\n",
       "      <th>citympg</th>\n",
       "      <th>highwaympg</th>\n",
       "      <th>price</th>\n",
       "    </tr>\n",
       "  </thead>\n",
       "  <tbody>\n",
       "    <tr>\n",
       "      <th>car_ID</th>\n",
       "      <td>1.000000</td>\n",
       "      <td>-0.151621</td>\n",
       "      <td>0.129729</td>\n",
       "      <td>0.170636</td>\n",
       "      <td>0.052387</td>\n",
       "      <td>0.255960</td>\n",
       "      <td>0.071962</td>\n",
       "      <td>-0.033930</td>\n",
       "      <td>0.260064</td>\n",
       "      <td>-0.160824</td>\n",
       "      <td>0.150276</td>\n",
       "      <td>-0.015006</td>\n",
       "      <td>-0.203789</td>\n",
       "      <td>0.015940</td>\n",
       "      <td>0.011255</td>\n",
       "      <td>-0.109093</td>\n",
       "    </tr>\n",
       "    <tr>\n",
       "      <th>symboling</th>\n",
       "      <td>-0.151621</td>\n",
       "      <td>1.000000</td>\n",
       "      <td>-0.531954</td>\n",
       "      <td>-0.357612</td>\n",
       "      <td>-0.232919</td>\n",
       "      <td>-0.541038</td>\n",
       "      <td>-0.227691</td>\n",
       "      <td>-0.105790</td>\n",
       "      <td>-0.130051</td>\n",
       "      <td>-0.008735</td>\n",
       "      <td>-0.178515</td>\n",
       "      <td>0.070873</td>\n",
       "      <td>0.273606</td>\n",
       "      <td>-0.035823</td>\n",
       "      <td>0.034606</td>\n",
       "      <td>-0.079978</td>\n",
       "    </tr>\n",
       "    <tr>\n",
       "      <th>wheelbase</th>\n",
       "      <td>0.129729</td>\n",
       "      <td>-0.531954</td>\n",
       "      <td>1.000000</td>\n",
       "      <td>0.874587</td>\n",
       "      <td>0.795144</td>\n",
       "      <td>0.589435</td>\n",
       "      <td>0.776386</td>\n",
       "      <td>0.569329</td>\n",
       "      <td>0.488750</td>\n",
       "      <td>0.160959</td>\n",
       "      <td>0.249786</td>\n",
       "      <td>0.353294</td>\n",
       "      <td>-0.360469</td>\n",
       "      <td>-0.470414</td>\n",
       "      <td>-0.544082</td>\n",
       "      <td>0.577816</td>\n",
       "    </tr>\n",
       "    <tr>\n",
       "      <th>carlength</th>\n",
       "      <td>0.170636</td>\n",
       "      <td>-0.357612</td>\n",
       "      <td>0.874587</td>\n",
       "      <td>1.000000</td>\n",
       "      <td>0.841118</td>\n",
       "      <td>0.491029</td>\n",
       "      <td>0.877728</td>\n",
       "      <td>0.683360</td>\n",
       "      <td>0.606454</td>\n",
       "      <td>0.129533</td>\n",
       "      <td>0.158414</td>\n",
       "      <td>0.552623</td>\n",
       "      <td>-0.287242</td>\n",
       "      <td>-0.670909</td>\n",
       "      <td>-0.704662</td>\n",
       "      <td>0.682920</td>\n",
       "    </tr>\n",
       "    <tr>\n",
       "      <th>carwidth</th>\n",
       "      <td>0.052387</td>\n",
       "      <td>-0.232919</td>\n",
       "      <td>0.795144</td>\n",
       "      <td>0.841118</td>\n",
       "      <td>1.000000</td>\n",
       "      <td>0.279210</td>\n",
       "      <td>0.867032</td>\n",
       "      <td>0.735433</td>\n",
       "      <td>0.559150</td>\n",
       "      <td>0.182942</td>\n",
       "      <td>0.181129</td>\n",
       "      <td>0.640732</td>\n",
       "      <td>-0.220012</td>\n",
       "      <td>-0.642704</td>\n",
       "      <td>-0.677218</td>\n",
       "      <td>0.759325</td>\n",
       "    </tr>\n",
       "    <tr>\n",
       "      <th>carheight</th>\n",
       "      <td>0.255960</td>\n",
       "      <td>-0.541038</td>\n",
       "      <td>0.589435</td>\n",
       "      <td>0.491029</td>\n",
       "      <td>0.279210</td>\n",
       "      <td>1.000000</td>\n",
       "      <td>0.295572</td>\n",
       "      <td>0.067149</td>\n",
       "      <td>0.171071</td>\n",
       "      <td>-0.055307</td>\n",
       "      <td>0.261214</td>\n",
       "      <td>-0.108802</td>\n",
       "      <td>-0.320411</td>\n",
       "      <td>-0.048640</td>\n",
       "      <td>-0.107358</td>\n",
       "      <td>0.119336</td>\n",
       "    </tr>\n",
       "    <tr>\n",
       "      <th>curbweight</th>\n",
       "      <td>0.071962</td>\n",
       "      <td>-0.227691</td>\n",
       "      <td>0.776386</td>\n",
       "      <td>0.877728</td>\n",
       "      <td>0.867032</td>\n",
       "      <td>0.295572</td>\n",
       "      <td>1.000000</td>\n",
       "      <td>0.850594</td>\n",
       "      <td>0.648480</td>\n",
       "      <td>0.168790</td>\n",
       "      <td>0.151362</td>\n",
       "      <td>0.750739</td>\n",
       "      <td>-0.266243</td>\n",
       "      <td>-0.757414</td>\n",
       "      <td>-0.797465</td>\n",
       "      <td>0.835305</td>\n",
       "    </tr>\n",
       "    <tr>\n",
       "      <th>enginesize</th>\n",
       "      <td>-0.033930</td>\n",
       "      <td>-0.105790</td>\n",
       "      <td>0.569329</td>\n",
       "      <td>0.683360</td>\n",
       "      <td>0.735433</td>\n",
       "      <td>0.067149</td>\n",
       "      <td>0.850594</td>\n",
       "      <td>1.000000</td>\n",
       "      <td>0.583774</td>\n",
       "      <td>0.203129</td>\n",
       "      <td>0.028971</td>\n",
       "      <td>0.809769</td>\n",
       "      <td>-0.244660</td>\n",
       "      <td>-0.653658</td>\n",
       "      <td>-0.677470</td>\n",
       "      <td>0.874145</td>\n",
       "    </tr>\n",
       "    <tr>\n",
       "      <th>boreratio</th>\n",
       "      <td>0.260064</td>\n",
       "      <td>-0.130051</td>\n",
       "      <td>0.488750</td>\n",
       "      <td>0.606454</td>\n",
       "      <td>0.559150</td>\n",
       "      <td>0.171071</td>\n",
       "      <td>0.648480</td>\n",
       "      <td>0.583774</td>\n",
       "      <td>1.000000</td>\n",
       "      <td>-0.055909</td>\n",
       "      <td>0.005197</td>\n",
       "      <td>0.573677</td>\n",
       "      <td>-0.254976</td>\n",
       "      <td>-0.584532</td>\n",
       "      <td>-0.587012</td>\n",
       "      <td>0.553173</td>\n",
       "    </tr>\n",
       "    <tr>\n",
       "      <th>stroke</th>\n",
       "      <td>-0.160824</td>\n",
       "      <td>-0.008735</td>\n",
       "      <td>0.160959</td>\n",
       "      <td>0.129533</td>\n",
       "      <td>0.182942</td>\n",
       "      <td>-0.055307</td>\n",
       "      <td>0.168790</td>\n",
       "      <td>0.203129</td>\n",
       "      <td>-0.055909</td>\n",
       "      <td>1.000000</td>\n",
       "      <td>0.186110</td>\n",
       "      <td>0.080940</td>\n",
       "      <td>-0.067964</td>\n",
       "      <td>-0.042145</td>\n",
       "      <td>-0.043931</td>\n",
       "      <td>0.079443</td>\n",
       "    </tr>\n",
       "    <tr>\n",
       "      <th>compressionratio</th>\n",
       "      <td>0.150276</td>\n",
       "      <td>-0.178515</td>\n",
       "      <td>0.249786</td>\n",
       "      <td>0.158414</td>\n",
       "      <td>0.181129</td>\n",
       "      <td>0.261214</td>\n",
       "      <td>0.151362</td>\n",
       "      <td>0.028971</td>\n",
       "      <td>0.005197</td>\n",
       "      <td>0.186110</td>\n",
       "      <td>1.000000</td>\n",
       "      <td>-0.204326</td>\n",
       "      <td>-0.435741</td>\n",
       "      <td>0.324701</td>\n",
       "      <td>0.265201</td>\n",
       "      <td>0.067984</td>\n",
       "    </tr>\n",
       "    <tr>\n",
       "      <th>horsepower</th>\n",
       "      <td>-0.015006</td>\n",
       "      <td>0.070873</td>\n",
       "      <td>0.353294</td>\n",
       "      <td>0.552623</td>\n",
       "      <td>0.640732</td>\n",
       "      <td>-0.108802</td>\n",
       "      <td>0.750739</td>\n",
       "      <td>0.809769</td>\n",
       "      <td>0.573677</td>\n",
       "      <td>0.080940</td>\n",
       "      <td>-0.204326</td>\n",
       "      <td>1.000000</td>\n",
       "      <td>0.131073</td>\n",
       "      <td>-0.801456</td>\n",
       "      <td>-0.770544</td>\n",
       "      <td>0.808139</td>\n",
       "    </tr>\n",
       "    <tr>\n",
       "      <th>peakrpm</th>\n",
       "      <td>-0.203789</td>\n",
       "      <td>0.273606</td>\n",
       "      <td>-0.360469</td>\n",
       "      <td>-0.287242</td>\n",
       "      <td>-0.220012</td>\n",
       "      <td>-0.320411</td>\n",
       "      <td>-0.266243</td>\n",
       "      <td>-0.244660</td>\n",
       "      <td>-0.254976</td>\n",
       "      <td>-0.067964</td>\n",
       "      <td>-0.435741</td>\n",
       "      <td>0.131073</td>\n",
       "      <td>1.000000</td>\n",
       "      <td>-0.113544</td>\n",
       "      <td>-0.054275</td>\n",
       "      <td>-0.085267</td>\n",
       "    </tr>\n",
       "    <tr>\n",
       "      <th>citympg</th>\n",
       "      <td>0.015940</td>\n",
       "      <td>-0.035823</td>\n",
       "      <td>-0.470414</td>\n",
       "      <td>-0.670909</td>\n",
       "      <td>-0.642704</td>\n",
       "      <td>-0.048640</td>\n",
       "      <td>-0.757414</td>\n",
       "      <td>-0.653658</td>\n",
       "      <td>-0.584532</td>\n",
       "      <td>-0.042145</td>\n",
       "      <td>0.324701</td>\n",
       "      <td>-0.801456</td>\n",
       "      <td>-0.113544</td>\n",
       "      <td>1.000000</td>\n",
       "      <td>0.971337</td>\n",
       "      <td>-0.685751</td>\n",
       "    </tr>\n",
       "    <tr>\n",
       "      <th>highwaympg</th>\n",
       "      <td>0.011255</td>\n",
       "      <td>0.034606</td>\n",
       "      <td>-0.544082</td>\n",
       "      <td>-0.704662</td>\n",
       "      <td>-0.677218</td>\n",
       "      <td>-0.107358</td>\n",
       "      <td>-0.797465</td>\n",
       "      <td>-0.677470</td>\n",
       "      <td>-0.587012</td>\n",
       "      <td>-0.043931</td>\n",
       "      <td>0.265201</td>\n",
       "      <td>-0.770544</td>\n",
       "      <td>-0.054275</td>\n",
       "      <td>0.971337</td>\n",
       "      <td>1.000000</td>\n",
       "      <td>-0.697599</td>\n",
       "    </tr>\n",
       "    <tr>\n",
       "      <th>price</th>\n",
       "      <td>-0.109093</td>\n",
       "      <td>-0.079978</td>\n",
       "      <td>0.577816</td>\n",
       "      <td>0.682920</td>\n",
       "      <td>0.759325</td>\n",
       "      <td>0.119336</td>\n",
       "      <td>0.835305</td>\n",
       "      <td>0.874145</td>\n",
       "      <td>0.553173</td>\n",
       "      <td>0.079443</td>\n",
       "      <td>0.067984</td>\n",
       "      <td>0.808139</td>\n",
       "      <td>-0.085267</td>\n",
       "      <td>-0.685751</td>\n",
       "      <td>-0.697599</td>\n",
       "      <td>1.000000</td>\n",
       "    </tr>\n",
       "  </tbody>\n",
       "</table>\n",
       "</div>"
      ],
      "text/plain": [
       "                    car_ID  symboling  wheelbase  carlength  carwidth  \\\n",
       "car_ID            1.000000  -0.151621   0.129729   0.170636  0.052387   \n",
       "symboling        -0.151621   1.000000  -0.531954  -0.357612 -0.232919   \n",
       "wheelbase         0.129729  -0.531954   1.000000   0.874587  0.795144   \n",
       "carlength         0.170636  -0.357612   0.874587   1.000000  0.841118   \n",
       "carwidth          0.052387  -0.232919   0.795144   0.841118  1.000000   \n",
       "carheight         0.255960  -0.541038   0.589435   0.491029  0.279210   \n",
       "curbweight        0.071962  -0.227691   0.776386   0.877728  0.867032   \n",
       "enginesize       -0.033930  -0.105790   0.569329   0.683360  0.735433   \n",
       "boreratio         0.260064  -0.130051   0.488750   0.606454  0.559150   \n",
       "stroke           -0.160824  -0.008735   0.160959   0.129533  0.182942   \n",
       "compressionratio  0.150276  -0.178515   0.249786   0.158414  0.181129   \n",
       "horsepower       -0.015006   0.070873   0.353294   0.552623  0.640732   \n",
       "peakrpm          -0.203789   0.273606  -0.360469  -0.287242 -0.220012   \n",
       "citympg           0.015940  -0.035823  -0.470414  -0.670909 -0.642704   \n",
       "highwaympg        0.011255   0.034606  -0.544082  -0.704662 -0.677218   \n",
       "price            -0.109093  -0.079978   0.577816   0.682920  0.759325   \n",
       "\n",
       "                  carheight  curbweight  enginesize  boreratio    stroke  \\\n",
       "car_ID             0.255960    0.071962   -0.033930   0.260064 -0.160824   \n",
       "symboling         -0.541038   -0.227691   -0.105790  -0.130051 -0.008735   \n",
       "wheelbase          0.589435    0.776386    0.569329   0.488750  0.160959   \n",
       "carlength          0.491029    0.877728    0.683360   0.606454  0.129533   \n",
       "carwidth           0.279210    0.867032    0.735433   0.559150  0.182942   \n",
       "carheight          1.000000    0.295572    0.067149   0.171071 -0.055307   \n",
       "curbweight         0.295572    1.000000    0.850594   0.648480  0.168790   \n",
       "enginesize         0.067149    0.850594    1.000000   0.583774  0.203129   \n",
       "boreratio          0.171071    0.648480    0.583774   1.000000 -0.055909   \n",
       "stroke            -0.055307    0.168790    0.203129  -0.055909  1.000000   \n",
       "compressionratio   0.261214    0.151362    0.028971   0.005197  0.186110   \n",
       "horsepower        -0.108802    0.750739    0.809769   0.573677  0.080940   \n",
       "peakrpm           -0.320411   -0.266243   -0.244660  -0.254976 -0.067964   \n",
       "citympg           -0.048640   -0.757414   -0.653658  -0.584532 -0.042145   \n",
       "highwaympg        -0.107358   -0.797465   -0.677470  -0.587012 -0.043931   \n",
       "price              0.119336    0.835305    0.874145   0.553173  0.079443   \n",
       "\n",
       "                  compressionratio  horsepower   peakrpm   citympg  \\\n",
       "car_ID                    0.150276   -0.015006 -0.203789  0.015940   \n",
       "symboling                -0.178515    0.070873  0.273606 -0.035823   \n",
       "wheelbase                 0.249786    0.353294 -0.360469 -0.470414   \n",
       "carlength                 0.158414    0.552623 -0.287242 -0.670909   \n",
       "carwidth                  0.181129    0.640732 -0.220012 -0.642704   \n",
       "carheight                 0.261214   -0.108802 -0.320411 -0.048640   \n",
       "curbweight                0.151362    0.750739 -0.266243 -0.757414   \n",
       "enginesize                0.028971    0.809769 -0.244660 -0.653658   \n",
       "boreratio                 0.005197    0.573677 -0.254976 -0.584532   \n",
       "stroke                    0.186110    0.080940 -0.067964 -0.042145   \n",
       "compressionratio          1.000000   -0.204326 -0.435741  0.324701   \n",
       "horsepower               -0.204326    1.000000  0.131073 -0.801456   \n",
       "peakrpm                  -0.435741    0.131073  1.000000 -0.113544   \n",
       "citympg                   0.324701   -0.801456 -0.113544  1.000000   \n",
       "highwaympg                0.265201   -0.770544 -0.054275  0.971337   \n",
       "price                     0.067984    0.808139 -0.085267 -0.685751   \n",
       "\n",
       "                  highwaympg     price  \n",
       "car_ID              0.011255 -0.109093  \n",
       "symboling           0.034606 -0.079978  \n",
       "wheelbase          -0.544082  0.577816  \n",
       "carlength          -0.704662  0.682920  \n",
       "carwidth           -0.677218  0.759325  \n",
       "carheight          -0.107358  0.119336  \n",
       "curbweight         -0.797465  0.835305  \n",
       "enginesize         -0.677470  0.874145  \n",
       "boreratio          -0.587012  0.553173  \n",
       "stroke             -0.043931  0.079443  \n",
       "compressionratio    0.265201  0.067984  \n",
       "horsepower         -0.770544  0.808139  \n",
       "peakrpm            -0.054275 -0.085267  \n",
       "citympg             0.971337 -0.685751  \n",
       "highwaympg          1.000000 -0.697599  \n",
       "price              -0.697599  1.000000  "
      ]
     },
     "execution_count": 464,
     "metadata": {},
     "output_type": "execute_result"
    }
   ],
   "source": [
    "car.corr()"
   ]
  },
  {
   "cell_type": "code",
   "execution_count": 465,
   "metadata": {},
   "outputs": [],
   "source": [
    "##take care of dummy variables\n",
    "var=['car','fueltype', 'aspiration', 'doornumber','carbody', 'drivewheel', 'enginelocation','enginetype', 'cylindernumber','fuelsystem']\n",
    "dummy=pd.get_dummies(car[var],drop_first=True)\n",
    "dummy.head()\n",
    "car=pd.concat([car,dummy],axis=1)\n",
    "        "
   ]
  },
  {
   "cell_type": "code",
   "execution_count": 466,
   "metadata": {},
   "outputs": [
    {
     "data": {
      "text/plain": [
       "(205, 76)"
      ]
     },
     "execution_count": 466,
     "metadata": {},
     "output_type": "execute_result"
    }
   ],
   "source": [
    "car.shape"
   ]
  },
  {
   "cell_type": "code",
   "execution_count": 467,
   "metadata": {},
   "outputs": [],
   "source": [
    "#drop redundant columns\n",
    "car.drop(var,axis=1,inplace=True)"
   ]
  },
  {
   "cell_type": "code",
   "execution_count": 468,
   "metadata": {},
   "outputs": [
    {
     "name": "stdout",
     "output_type": "stream",
     "text": [
      "Index(['car_ID', 'symboling', 'wheelbase', 'carlength', 'carwidth',\n",
      "       'carheight', 'curbweight', 'enginesize', 'boreratio', 'stroke',\n",
      "       'compressionratio', 'horsepower', 'peakrpm', 'citympg', 'highwaympg',\n",
      "       'price', 'car_audi', 'car_bmw', 'car_buick', 'car_chevrolet',\n",
      "       'car_dodge', 'car_honda', 'car_isuzu', 'car_jaguar', 'car_mazda',\n",
      "       'car_mercury', 'car_mitsubishi', 'car_nissan', 'car_peugeot',\n",
      "       'car_plymouth', 'car_porsche', 'car_renault', 'car_saab', 'car_subaru',\n",
      "       'car_toyota', 'car_volkswagen', 'car_volvo', 'fueltype_gas',\n",
      "       'aspiration_turbo', 'doornumber_two', 'carbody_hardtop',\n",
      "       'carbody_hatchback', 'carbody_sedan', 'carbody_wagon', 'drivewheel_fwd',\n",
      "       'drivewheel_rwd', 'enginelocation_rear', 'enginetype_dohcv',\n",
      "       'enginetype_l', 'enginetype_ohc', 'enginetype_ohcf', 'enginetype_ohcv',\n",
      "       'enginetype_rotor', 'cylindernumber_five', 'cylindernumber_four',\n",
      "       'cylindernumber_six', 'cylindernumber_three', 'cylindernumber_twelve',\n",
      "       'cylindernumber_two', 'fuelsystem_2bbl', 'fuelsystem_4bbl',\n",
      "       'fuelsystem_idi', 'fuelsystem_mfi', 'fuelsystem_mpfi',\n",
      "       'fuelsystem_spdi', 'fuelsystem_spfi'],\n",
      "      dtype='object')\n",
      "(205, 66)\n"
     ]
    }
   ],
   "source": [
    "print(car.columns)\n",
    "print(car.shape)"
   ]
  },
  {
   "cell_type": "code",
   "execution_count": 469,
   "metadata": {},
   "outputs": [],
   "source": [
    "#split dataset to train and test dataset\n",
    "from sklearn.model_selection import train_test_split"
   ]
  },
  {
   "cell_type": "code",
   "execution_count": 470,
   "metadata": {},
   "outputs": [],
   "source": [
    "df_train,df_test=train_test_split(car,train_size=0.7,test_size=0.3,random_state=100)\n",
    "np.random.seed(0)"
   ]
  },
  {
   "cell_type": "code",
   "execution_count": 471,
   "metadata": {},
   "outputs": [
    {
     "name": "stderr",
     "output_type": "stream",
     "text": [
      "C:\\Users\\prabal.paul\\AppData\\Local\\Continuum\\anaconda3\\lib\\site-packages\\ipykernel_launcher.py:7: SettingWithCopyWarning: \n",
      "A value is trying to be set on a copy of a slice from a DataFrame.\n",
      "Try using .loc[row_indexer,col_indexer] = value instead\n",
      "\n",
      "See the caveats in the documentation: http://pandas.pydata.org/pandas-docs/stable/indexing.html#indexing-view-versus-copy\n",
      "  import sys\n",
      "C:\\Users\\prabal.paul\\AppData\\Local\\Continuum\\anaconda3\\lib\\site-packages\\pandas\\core\\indexing.py:543: SettingWithCopyWarning: \n",
      "A value is trying to be set on a copy of a slice from a DataFrame.\n",
      "Try using .loc[row_indexer,col_indexer] = value instead\n",
      "\n",
      "See the caveats in the documentation: http://pandas.pydata.org/pandas-docs/stable/indexing.html#indexing-view-versus-copy\n",
      "  self.obj[item] = s\n"
     ]
    }
   ],
   "source": [
    "#scale numeric columns\n",
    "scale_columns=['symboling','wheelbase', 'carlength', 'carwidth','carheight', 'curbweight','enginesize','boreratio', 'stroke',\n",
    "       'compressionratio', 'horsepower', 'peakrpm', 'citympg', 'highwaympg','price']\n",
    "\n",
    "from sklearn.preprocessing import MinMaxScaler\n",
    "scaler=MinMaxScaler()\n",
    "df_train[scale_columns]=scaler.fit_transform(df_train[scale_columns])"
   ]
  },
  {
   "cell_type": "code",
   "execution_count": 472,
   "metadata": {},
   "outputs": [
    {
     "data": {
      "text/html": [
       "<div>\n",
       "<style scoped>\n",
       "    .dataframe tbody tr th:only-of-type {\n",
       "        vertical-align: middle;\n",
       "    }\n",
       "\n",
       "    .dataframe tbody tr th {\n",
       "        vertical-align: top;\n",
       "    }\n",
       "\n",
       "    .dataframe thead th {\n",
       "        text-align: right;\n",
       "    }\n",
       "</style>\n",
       "<table border=\"1\" class=\"dataframe\">\n",
       "  <thead>\n",
       "    <tr style=\"text-align: right;\">\n",
       "      <th></th>\n",
       "      <th>symboling</th>\n",
       "      <th>wheelbase</th>\n",
       "      <th>carlength</th>\n",
       "      <th>carwidth</th>\n",
       "      <th>carheight</th>\n",
       "      <th>curbweight</th>\n",
       "      <th>enginesize</th>\n",
       "      <th>boreratio</th>\n",
       "      <th>stroke</th>\n",
       "      <th>compressionratio</th>\n",
       "      <th>horsepower</th>\n",
       "      <th>peakrpm</th>\n",
       "      <th>citympg</th>\n",
       "      <th>highwaympg</th>\n",
       "      <th>price</th>\n",
       "    </tr>\n",
       "  </thead>\n",
       "  <tbody>\n",
       "    <tr>\n",
       "      <th>122</th>\n",
       "      <td>0.6</td>\n",
       "      <td>0.244828</td>\n",
       "      <td>0.426016</td>\n",
       "      <td>0.291667</td>\n",
       "      <td>0.265487</td>\n",
       "      <td>0.272692</td>\n",
       "      <td>0.139623</td>\n",
       "      <td>0.230159</td>\n",
       "      <td>0.525253</td>\n",
       "      <td>0.15000</td>\n",
       "      <td>0.083333</td>\n",
       "      <td>0.551020</td>\n",
       "      <td>0.500000</td>\n",
       "      <td>0.567568</td>\n",
       "      <td>0.068818</td>\n",
       "    </tr>\n",
       "    <tr>\n",
       "      <th>125</th>\n",
       "      <td>1.0</td>\n",
       "      <td>0.272414</td>\n",
       "      <td>0.452033</td>\n",
       "      <td>0.666667</td>\n",
       "      <td>0.212389</td>\n",
       "      <td>0.500388</td>\n",
       "      <td>0.339623</td>\n",
       "      <td>1.000000</td>\n",
       "      <td>0.464646</td>\n",
       "      <td>0.15625</td>\n",
       "      <td>0.395833</td>\n",
       "      <td>0.551020</td>\n",
       "      <td>0.166667</td>\n",
       "      <td>0.270270</td>\n",
       "      <td>0.466890</td>\n",
       "    </tr>\n",
       "    <tr>\n",
       "      <th>166</th>\n",
       "      <td>0.6</td>\n",
       "      <td>0.272414</td>\n",
       "      <td>0.448780</td>\n",
       "      <td>0.308333</td>\n",
       "      <td>0.424779</td>\n",
       "      <td>0.314973</td>\n",
       "      <td>0.139623</td>\n",
       "      <td>0.444444</td>\n",
       "      <td>0.449495</td>\n",
       "      <td>0.15000</td>\n",
       "      <td>0.266667</td>\n",
       "      <td>1.000000</td>\n",
       "      <td>0.361111</td>\n",
       "      <td>0.324324</td>\n",
       "      <td>0.122110</td>\n",
       "    </tr>\n",
       "    <tr>\n",
       "      <th>1</th>\n",
       "      <td>1.0</td>\n",
       "      <td>0.068966</td>\n",
       "      <td>0.450407</td>\n",
       "      <td>0.316667</td>\n",
       "      <td>0.088496</td>\n",
       "      <td>0.411171</td>\n",
       "      <td>0.260377</td>\n",
       "      <td>0.626984</td>\n",
       "      <td>0.247475</td>\n",
       "      <td>0.12500</td>\n",
       "      <td>0.262500</td>\n",
       "      <td>0.346939</td>\n",
       "      <td>0.222222</td>\n",
       "      <td>0.270270</td>\n",
       "      <td>0.314446</td>\n",
       "    </tr>\n",
       "    <tr>\n",
       "      <th>199</th>\n",
       "      <td>0.2</td>\n",
       "      <td>0.610345</td>\n",
       "      <td>0.775610</td>\n",
       "      <td>0.575000</td>\n",
       "      <td>0.858407</td>\n",
       "      <td>0.647401</td>\n",
       "      <td>0.260377</td>\n",
       "      <td>0.746032</td>\n",
       "      <td>0.484848</td>\n",
       "      <td>0.03125</td>\n",
       "      <td>0.475000</td>\n",
       "      <td>0.387755</td>\n",
       "      <td>0.111111</td>\n",
       "      <td>0.135135</td>\n",
       "      <td>0.382131</td>\n",
       "    </tr>\n",
       "  </tbody>\n",
       "</table>\n",
       "</div>"
      ],
      "text/plain": [
       "     symboling  wheelbase  carlength  carwidth  carheight  curbweight  \\\n",
       "122        0.6   0.244828   0.426016  0.291667   0.265487    0.272692   \n",
       "125        1.0   0.272414   0.452033  0.666667   0.212389    0.500388   \n",
       "166        0.6   0.272414   0.448780  0.308333   0.424779    0.314973   \n",
       "1          1.0   0.068966   0.450407  0.316667   0.088496    0.411171   \n",
       "199        0.2   0.610345   0.775610  0.575000   0.858407    0.647401   \n",
       "\n",
       "     enginesize  boreratio    stroke  compressionratio  horsepower   peakrpm  \\\n",
       "122    0.139623   0.230159  0.525253           0.15000    0.083333  0.551020   \n",
       "125    0.339623   1.000000  0.464646           0.15625    0.395833  0.551020   \n",
       "166    0.139623   0.444444  0.449495           0.15000    0.266667  1.000000   \n",
       "1      0.260377   0.626984  0.247475           0.12500    0.262500  0.346939   \n",
       "199    0.260377   0.746032  0.484848           0.03125    0.475000  0.387755   \n",
       "\n",
       "      citympg  highwaympg     price  \n",
       "122  0.500000    0.567568  0.068818  \n",
       "125  0.166667    0.270270  0.466890  \n",
       "166  0.361111    0.324324  0.122110  \n",
       "1    0.222222    0.270270  0.314446  \n",
       "199  0.111111    0.135135  0.382131  "
      ]
     },
     "execution_count": 472,
     "metadata": {},
     "output_type": "execute_result"
    }
   ],
   "source": [
    "df_train[scale_columns].head()\n",
    "# now I can see that all the numeric column values within 0 and 1\n",
    "#Lets see variation of these variables"
   ]
  },
  {
   "cell_type": "code",
   "execution_count": 473,
   "metadata": {},
   "outputs": [
    {
     "data": {
      "text/html": [
       "<div>\n",
       "<style scoped>\n",
       "    .dataframe tbody tr th:only-of-type {\n",
       "        vertical-align: middle;\n",
       "    }\n",
       "\n",
       "    .dataframe tbody tr th {\n",
       "        vertical-align: top;\n",
       "    }\n",
       "\n",
       "    .dataframe thead th {\n",
       "        text-align: right;\n",
       "    }\n",
       "</style>\n",
       "<table border=\"1\" class=\"dataframe\">\n",
       "  <thead>\n",
       "    <tr style=\"text-align: right;\">\n",
       "      <th></th>\n",
       "      <th>symboling</th>\n",
       "      <th>wheelbase</th>\n",
       "      <th>carlength</th>\n",
       "      <th>carwidth</th>\n",
       "      <th>carheight</th>\n",
       "      <th>curbweight</th>\n",
       "      <th>enginesize</th>\n",
       "      <th>boreratio</th>\n",
       "      <th>stroke</th>\n",
       "      <th>compressionratio</th>\n",
       "      <th>horsepower</th>\n",
       "      <th>peakrpm</th>\n",
       "      <th>citympg</th>\n",
       "      <th>highwaympg</th>\n",
       "      <th>price</th>\n",
       "    </tr>\n",
       "  </thead>\n",
       "  <tbody>\n",
       "    <tr>\n",
       "      <th>count</th>\n",
       "      <td>143.000000</td>\n",
       "      <td>143.000000</td>\n",
       "      <td>143.000000</td>\n",
       "      <td>143.000000</td>\n",
       "      <td>143.000000</td>\n",
       "      <td>143.000000</td>\n",
       "      <td>143.000000</td>\n",
       "      <td>143.000000</td>\n",
       "      <td>143.000000</td>\n",
       "      <td>143.000000</td>\n",
       "      <td>143.000000</td>\n",
       "      <td>143.000000</td>\n",
       "      <td>143.000000</td>\n",
       "      <td>143.000000</td>\n",
       "      <td>143.000000</td>\n",
       "    </tr>\n",
       "    <tr>\n",
       "      <th>mean</th>\n",
       "      <td>0.559441</td>\n",
       "      <td>0.411141</td>\n",
       "      <td>0.525476</td>\n",
       "      <td>0.461655</td>\n",
       "      <td>0.509004</td>\n",
       "      <td>0.407878</td>\n",
       "      <td>0.241351</td>\n",
       "      <td>0.497946</td>\n",
       "      <td>0.535389</td>\n",
       "      <td>0.190787</td>\n",
       "      <td>0.227302</td>\n",
       "      <td>0.400029</td>\n",
       "      <td>0.344211</td>\n",
       "      <td>0.374976</td>\n",
       "      <td>0.219310</td>\n",
       "    </tr>\n",
       "    <tr>\n",
       "      <th>std</th>\n",
       "      <td>0.239200</td>\n",
       "      <td>0.205581</td>\n",
       "      <td>0.204848</td>\n",
       "      <td>0.184517</td>\n",
       "      <td>0.215378</td>\n",
       "      <td>0.211269</td>\n",
       "      <td>0.154619</td>\n",
       "      <td>0.207140</td>\n",
       "      <td>0.157843</td>\n",
       "      <td>0.237181</td>\n",
       "      <td>0.165511</td>\n",
       "      <td>0.196438</td>\n",
       "      <td>0.186165</td>\n",
       "      <td>0.188477</td>\n",
       "      <td>0.215682</td>\n",
       "    </tr>\n",
       "    <tr>\n",
       "      <th>min</th>\n",
       "      <td>0.000000</td>\n",
       "      <td>0.000000</td>\n",
       "      <td>0.000000</td>\n",
       "      <td>0.000000</td>\n",
       "      <td>0.000000</td>\n",
       "      <td>0.000000</td>\n",
       "      <td>0.000000</td>\n",
       "      <td>0.000000</td>\n",
       "      <td>0.000000</td>\n",
       "      <td>0.000000</td>\n",
       "      <td>0.000000</td>\n",
       "      <td>0.000000</td>\n",
       "      <td>0.000000</td>\n",
       "      <td>0.000000</td>\n",
       "      <td>0.000000</td>\n",
       "    </tr>\n",
       "    <tr>\n",
       "      <th>25%</th>\n",
       "      <td>0.400000</td>\n",
       "      <td>0.272414</td>\n",
       "      <td>0.399187</td>\n",
       "      <td>0.304167</td>\n",
       "      <td>0.353982</td>\n",
       "      <td>0.245539</td>\n",
       "      <td>0.135849</td>\n",
       "      <td>0.305556</td>\n",
       "      <td>0.464646</td>\n",
       "      <td>0.100000</td>\n",
       "      <td>0.091667</td>\n",
       "      <td>0.265306</td>\n",
       "      <td>0.166667</td>\n",
       "      <td>0.216216</td>\n",
       "      <td>0.067298</td>\n",
       "    </tr>\n",
       "    <tr>\n",
       "      <th>40%</th>\n",
       "      <td>0.400000</td>\n",
       "      <td>0.313793</td>\n",
       "      <td>0.463089</td>\n",
       "      <td>0.388333</td>\n",
       "      <td>0.442478</td>\n",
       "      <td>0.314430</td>\n",
       "      <td>0.177358</td>\n",
       "      <td>0.404762</td>\n",
       "      <td>0.525253</td>\n",
       "      <td>0.125000</td>\n",
       "      <td>0.154167</td>\n",
       "      <td>0.346939</td>\n",
       "      <td>0.300000</td>\n",
       "      <td>0.324324</td>\n",
       "      <td>0.104545</td>\n",
       "    </tr>\n",
       "    <tr>\n",
       "      <th>50%</th>\n",
       "      <td>0.600000</td>\n",
       "      <td>0.341379</td>\n",
       "      <td>0.502439</td>\n",
       "      <td>0.425000</td>\n",
       "      <td>0.522124</td>\n",
       "      <td>0.355702</td>\n",
       "      <td>0.184906</td>\n",
       "      <td>0.500000</td>\n",
       "      <td>0.545455</td>\n",
       "      <td>0.125000</td>\n",
       "      <td>0.191667</td>\n",
       "      <td>0.428571</td>\n",
       "      <td>0.333333</td>\n",
       "      <td>0.378378</td>\n",
       "      <td>0.140343</td>\n",
       "    </tr>\n",
       "    <tr>\n",
       "      <th>75%</th>\n",
       "      <td>0.600000</td>\n",
       "      <td>0.503448</td>\n",
       "      <td>0.669919</td>\n",
       "      <td>0.550000</td>\n",
       "      <td>0.668142</td>\n",
       "      <td>0.559542</td>\n",
       "      <td>0.301887</td>\n",
       "      <td>0.682540</td>\n",
       "      <td>0.611111</td>\n",
       "      <td>0.150000</td>\n",
       "      <td>0.283333</td>\n",
       "      <td>0.551020</td>\n",
       "      <td>0.500000</td>\n",
       "      <td>0.527027</td>\n",
       "      <td>0.313479</td>\n",
       "    </tr>\n",
       "    <tr>\n",
       "      <th>90%</th>\n",
       "      <td>1.000000</td>\n",
       "      <td>0.734483</td>\n",
       "      <td>0.778211</td>\n",
       "      <td>0.708333</td>\n",
       "      <td>0.766372</td>\n",
       "      <td>0.684251</td>\n",
       "      <td>0.452830</td>\n",
       "      <td>0.746032</td>\n",
       "      <td>0.681818</td>\n",
       "      <td>0.182500</td>\n",
       "      <td>0.450000</td>\n",
       "      <td>0.640816</td>\n",
       "      <td>0.500000</td>\n",
       "      <td>0.567568</td>\n",
       "      <td>0.482802</td>\n",
       "    </tr>\n",
       "    <tr>\n",
       "      <th>max</th>\n",
       "      <td>1.000000</td>\n",
       "      <td>1.000000</td>\n",
       "      <td>1.000000</td>\n",
       "      <td>1.000000</td>\n",
       "      <td>1.000000</td>\n",
       "      <td>1.000000</td>\n",
       "      <td>1.000000</td>\n",
       "      <td>1.000000</td>\n",
       "      <td>1.000000</td>\n",
       "      <td>1.000000</td>\n",
       "      <td>1.000000</td>\n",
       "      <td>1.000000</td>\n",
       "      <td>1.000000</td>\n",
       "      <td>1.000000</td>\n",
       "      <td>1.000000</td>\n",
       "    </tr>\n",
       "  </tbody>\n",
       "</table>\n",
       "</div>"
      ],
      "text/plain": [
       "        symboling   wheelbase   carlength    carwidth   carheight  curbweight  \\\n",
       "count  143.000000  143.000000  143.000000  143.000000  143.000000  143.000000   \n",
       "mean     0.559441    0.411141    0.525476    0.461655    0.509004    0.407878   \n",
       "std      0.239200    0.205581    0.204848    0.184517    0.215378    0.211269   \n",
       "min      0.000000    0.000000    0.000000    0.000000    0.000000    0.000000   \n",
       "25%      0.400000    0.272414    0.399187    0.304167    0.353982    0.245539   \n",
       "40%      0.400000    0.313793    0.463089    0.388333    0.442478    0.314430   \n",
       "50%      0.600000    0.341379    0.502439    0.425000    0.522124    0.355702   \n",
       "75%      0.600000    0.503448    0.669919    0.550000    0.668142    0.559542   \n",
       "90%      1.000000    0.734483    0.778211    0.708333    0.766372    0.684251   \n",
       "max      1.000000    1.000000    1.000000    1.000000    1.000000    1.000000   \n",
       "\n",
       "       enginesize   boreratio      stroke  compressionratio  horsepower  \\\n",
       "count  143.000000  143.000000  143.000000        143.000000  143.000000   \n",
       "mean     0.241351    0.497946    0.535389          0.190787    0.227302   \n",
       "std      0.154619    0.207140    0.157843          0.237181    0.165511   \n",
       "min      0.000000    0.000000    0.000000          0.000000    0.000000   \n",
       "25%      0.135849    0.305556    0.464646          0.100000    0.091667   \n",
       "40%      0.177358    0.404762    0.525253          0.125000    0.154167   \n",
       "50%      0.184906    0.500000    0.545455          0.125000    0.191667   \n",
       "75%      0.301887    0.682540    0.611111          0.150000    0.283333   \n",
       "90%      0.452830    0.746032    0.681818          0.182500    0.450000   \n",
       "max      1.000000    1.000000    1.000000          1.000000    1.000000   \n",
       "\n",
       "          peakrpm     citympg  highwaympg       price  \n",
       "count  143.000000  143.000000  143.000000  143.000000  \n",
       "mean     0.400029    0.344211    0.374976    0.219310  \n",
       "std      0.196438    0.186165    0.188477    0.215682  \n",
       "min      0.000000    0.000000    0.000000    0.000000  \n",
       "25%      0.265306    0.166667    0.216216    0.067298  \n",
       "40%      0.346939    0.300000    0.324324    0.104545  \n",
       "50%      0.428571    0.333333    0.378378    0.140343  \n",
       "75%      0.551020    0.500000    0.527027    0.313479  \n",
       "90%      0.640816    0.500000    0.567568    0.482802  \n",
       "max      1.000000    1.000000    1.000000    1.000000  "
      ]
     },
     "execution_count": 473,
     "metadata": {},
     "output_type": "execute_result"
    }
   ],
   "source": [
    "df_train[scale_columns].describe(percentiles=[0.25,0.40,0.50,0.75,0.90])\n",
    "#Data  looks good as mean and median values doesn't differ much"
   ]
  },
  {
   "cell_type": "code",
   "execution_count": 474,
   "metadata": {},
   "outputs": [],
   "source": [
    "#split x and y dataset of train df\n",
    "y_train=df_train.pop('price')\n",
    "x_train=df_train\n",
    "\n"
   ]
  },
  {
   "cell_type": "code",
   "execution_count": null,
   "metadata": {},
   "outputs": [],
   "source": [
    "\n"
   ]
  },
  {
   "cell_type": "code",
   "execution_count": 475,
   "metadata": {},
   "outputs": [
    {
     "data": {
      "text/plain": [
       "(143, 65)"
      ]
     },
     "execution_count": 475,
     "metadata": {},
     "output_type": "execute_result"
    }
   ],
   "source": [
    "df_train.shape"
   ]
  },
  {
   "cell_type": "code",
   "execution_count": 476,
   "metadata": {},
   "outputs": [],
   "source": [
    "df_train.shape\n",
    "#total 95 columns are present and getting useful data is pretty difficut.\n",
    "#Let's apply automatic feature selection REF here\n",
    "from sklearn.linear_model import LinearRegression\n",
    "lr=LinearRegression()\n"
   ]
  },
  {
   "cell_type": "code",
   "execution_count": 477,
   "metadata": {
    "scrolled": true
   },
   "outputs": [
    {
     "data": {
      "text/plain": [
       "RFE(estimator=LinearRegression(copy_X=True, fit_intercept=True, n_jobs=1, normalize=False),\n",
       "  n_features_to_select=10, step=1, verbose=0)"
      ]
     },
     "execution_count": 477,
     "metadata": {},
     "output_type": "execute_result"
    }
   ],
   "source": [
    "from sklearn.feature_selection import RFE\n",
    "\n",
    "rfe=RFE(lr,10)\n",
    "rfe.fit(x_train,y_train)\n"
   ]
  },
  {
   "cell_type": "code",
   "execution_count": null,
   "metadata": {},
   "outputs": [],
   "source": []
  },
  {
   "cell_type": "code",
   "execution_count": 478,
   "metadata": {},
   "outputs": [
    {
     "data": {
      "text/plain": [
       "[('car_ID', False, 51),\n",
       " ('symboling', False, 52),\n",
       " ('wheelbase', False, 17),\n",
       " ('carlength', False, 21),\n",
       " ('carwidth', True, 1),\n",
       " ('carheight', False, 18),\n",
       " ('curbweight', True, 1),\n",
       " ('enginesize', True, 1),\n",
       " ('boreratio', True, 1),\n",
       " ('stroke', False, 2),\n",
       " ('compressionratio', False, 25),\n",
       " ('horsepower', False, 15),\n",
       " ('peakrpm', False, 16),\n",
       " ('citympg', False, 39),\n",
       " ('highwaympg', False, 26),\n",
       " ('car_audi', False, 37),\n",
       " ('car_bmw', True, 1),\n",
       " ('car_buick', False, 38),\n",
       " ('car_chevrolet', False, 23),\n",
       " ('car_dodge', False, 20),\n",
       " ('car_honda', False, 22),\n",
       " ('car_isuzu', False, 50),\n",
       " ('car_jaguar', False, 27),\n",
       " ('car_mazda', False, 44),\n",
       " ('car_mercury', False, 54),\n",
       " ('car_mitsubishi', False, 13),\n",
       " ('car_nissan', False, 43),\n",
       " ('car_peugeot', False, 6),\n",
       " ('car_plymouth', False, 19),\n",
       " ('car_porsche', True, 1),\n",
       " ('car_renault', False, 40),\n",
       " ('car_saab', False, 9),\n",
       " ('car_subaru', False, 11),\n",
       " ('car_toyota', False, 45),\n",
       " ('car_volkswagen', False, 46),\n",
       " ('car_volvo', False, 8),\n",
       " ('fueltype_gas', False, 24),\n",
       " ('aspiration_turbo', False, 14),\n",
       " ('doornumber_two', False, 48),\n",
       " ('carbody_hardtop', False, 31),\n",
       " ('carbody_hatchback', False, 30),\n",
       " ('carbody_sedan', False, 32),\n",
       " ('carbody_wagon', False, 33),\n",
       " ('drivewheel_fwd', False, 53),\n",
       " ('drivewheel_rwd', False, 42),\n",
       " ('enginelocation_rear', True, 1),\n",
       " ('enginetype_dohcv', False, 12),\n",
       " ('enginetype_l', False, 7),\n",
       " ('enginetype_ohc', False, 49),\n",
       " ('enginetype_ohcf', False, 10),\n",
       " ('enginetype_ohcv', False, 41),\n",
       " ('enginetype_rotor', False, 3),\n",
       " ('cylindernumber_five', False, 5),\n",
       " ('cylindernumber_four', False, 4),\n",
       " ('cylindernumber_six', False, 28),\n",
       " ('cylindernumber_three', True, 1),\n",
       " ('cylindernumber_twelve', True, 1),\n",
       " ('cylindernumber_two', True, 1),\n",
       " ('fuelsystem_2bbl', False, 47),\n",
       " ('fuelsystem_4bbl', False, 34),\n",
       " ('fuelsystem_idi', False, 29),\n",
       " ('fuelsystem_mfi', False, 55),\n",
       " ('fuelsystem_mpfi', False, 36),\n",
       " ('fuelsystem_spdi', False, 35),\n",
       " ('fuelsystem_spfi', False, 56)]"
      ]
     },
     "execution_count": 478,
     "metadata": {},
     "output_type": "execute_result"
    }
   ],
   "source": [
    "list(zip(x_train.columns,rfe.support_,rfe.ranking_))"
   ]
  },
  {
   "cell_type": "code",
   "execution_count": 479,
   "metadata": {},
   "outputs": [],
   "source": [
    "#Check columns supported by RFE\n",
    "cols=x_train.columns[rfe.support_]\n",
    "x_train0=x_train[cols]\n"
   ]
  },
  {
   "cell_type": "code",
   "execution_count": 480,
   "metadata": {},
   "outputs": [
    {
     "data": {
      "text/plain": [
       "Index(['carwidth', 'curbweight', 'enginesize', 'boreratio', 'car_bmw',\n",
       "       'car_porsche', 'enginelocation_rear', 'cylindernumber_three',\n",
       "       'cylindernumber_twelve', 'cylindernumber_two'],\n",
       "      dtype='object')"
      ]
     },
     "execution_count": 480,
     "metadata": {},
     "output_type": "execute_result"
    }
   ],
   "source": [
    "x_train0[cols].columns"
   ]
  },
  {
   "cell_type": "code",
   "execution_count": null,
   "metadata": {},
   "outputs": [],
   "source": []
  },
  {
   "cell_type": "code",
   "execution_count": 481,
   "metadata": {},
   "outputs": [
    {
     "name": "stdout",
     "output_type": "stream",
     "text": [
      "                            OLS Regression Results                            \n",
      "==============================================================================\n",
      "Dep. Variable:                  price   R-squared:                       0.912\n",
      "Model:                            OLS   Adj. R-squared:                  0.906\n",
      "Method:                 Least Squares   F-statistic:                     137.1\n",
      "Date:                Sat, 26 Jan 2019   Prob (F-statistic):           1.21e-64\n",
      "Time:                        01:20:05   Log-Likelihood:                 190.87\n",
      "No. Observations:                 143   AIC:                            -359.7\n",
      "Df Residuals:                     132   BIC:                            -327.1\n",
      "Df Model:                          10                                         \n",
      "Covariance Type:            nonrobust                                         \n",
      "=========================================================================================\n",
      "                            coef    std err          t      P>|t|      [0.025      0.975]\n",
      "-----------------------------------------------------------------------------------------\n",
      "const                    -0.1594      0.019     -8.597      0.000      -0.196      -0.123\n",
      "carwidth                  0.3283      0.067      4.910      0.000       0.196       0.461\n",
      "curbweight                0.2989      0.080      3.729      0.000       0.140       0.457\n",
      "enginesize                0.5732      0.097      5.926      0.000       0.382       0.764\n",
      "boreratio                -0.1088      0.037     -2.976      0.003      -0.181      -0.036\n",
      "car_bmw                   0.2453      0.029      8.327      0.000       0.187       0.304\n",
      "car_porsche               0.1565      0.052      3.000      0.003       0.053       0.260\n",
      "enginelocation_rear       0.3298      0.086      3.844      0.000       0.160       0.500\n",
      "cylindernumber_three      0.1802      0.068      2.638      0.009       0.045       0.315\n",
      "cylindernumber_twelve    -0.0536      0.081     -0.659      0.511      -0.214       0.107\n",
      "cylindernumber_two        0.1542      0.037      4.123      0.000       0.080       0.228\n",
      "==============================================================================\n",
      "Omnibus:                       10.995   Durbin-Watson:                   1.961\n",
      "Prob(Omnibus):                  0.004   Jarque-Bera (JB):               15.683\n",
      "Skew:                           0.423   Prob(JB):                     0.000393\n",
      "Kurtosis:                       4.385   Cond. No.                         30.0\n",
      "==============================================================================\n",
      "\n",
      "Warnings:\n",
      "[1] Standard Errors assume that the covariance matrix of the errors is correctly specified.\n",
      "                features    VIF\n",
      "1             curbweight  41.06\n",
      "0               carwidth  25.19\n",
      "2             enginesize  24.95\n",
      "3              boreratio   9.78\n",
      "5            car_porsche   1.67\n",
      "6    enginelocation_rear   1.61\n",
      "8  cylindernumber_twelve   1.50\n",
      "9     cylindernumber_two   1.27\n",
      "4                car_bmw   1.18\n",
      "7   cylindernumber_three   1.01\n"
     ]
    }
   ],
   "source": [
    "#use statsmodel to check accuracy  using RFE selected 10 columns\n",
    "import statsmodels.api as sm\n",
    "x_train_lm0=sm.add_constant(x_train0)\n",
    "lrm0=sm.OLS(y_train,x_train_lm0).fit()\n",
    "\n",
    "print(lrm0.summary())\n",
    "\n",
    "#lets check VIF\n",
    "from statsmodels.stats.outliers_influence import variance_inflation_factor\n",
    "vif=pd.DataFrame()\n",
    "vif['features']=x_train0.columns\n",
    "vif['VIF']=[variance_inflation_factor(x_train0.values,i) for i in range(x_train0.shape[1])]\n",
    "vif['VIF']=round(vif['VIF'],2)\n",
    "vif.sort_values(by='VIF',ascending=False,inplace=True)\n",
    "print(vif)"
   ]
  },
  {
   "cell_type": "code",
   "execution_count": null,
   "metadata": {},
   "outputs": [],
   "source": []
  },
  {
   "cell_type": "code",
   "execution_count": null,
   "metadata": {},
   "outputs": [],
   "source": []
  },
  {
   "cell_type": "markdown",
   "metadata": {},
   "source": [
    "There are a few variables with high VIF. It's best to drop these variables as they aren't helping much with prediction and unnecessarily making the model complex. So let's start by dropping that."
   ]
  },
  {
   "cell_type": "code",
   "execution_count": 482,
   "metadata": {},
   "outputs": [
    {
     "name": "stdout",
     "output_type": "stream",
     "text": [
      "                            OLS Regression Results                            \n",
      "==============================================================================\n",
      "Dep. Variable:                  price   R-squared:                       0.903\n",
      "Model:                            OLS   Adj. R-squared:                  0.896\n",
      "Method:                 Least Squares   F-statistic:                     137.4\n",
      "Date:                Sat, 26 Jan 2019   Prob (F-statistic):           7.17e-63\n",
      "Time:                        01:20:05   Log-Likelihood:                 183.70\n",
      "No. Observations:                 143   AIC:                            -347.4\n",
      "Df Residuals:                     133   BIC:                            -317.8\n",
      "Df Model:                           9                                         \n",
      "Covariance Type:            nonrobust                                         \n",
      "=========================================================================================\n",
      "                            coef    std err          t      P>|t|      [0.025      0.975]\n",
      "-----------------------------------------------------------------------------------------\n",
      "const                    -0.1774      0.019     -9.459      0.000      -0.215      -0.140\n",
      "carwidth                  0.4725      0.057      8.264      0.000       0.359       0.586\n",
      "enginesize                0.8075      0.077     10.485      0.000       0.655       0.960\n",
      "boreratio                -0.0733      0.037     -1.984      0.049      -0.146      -0.000\n",
      "car_bmw                   0.2406      0.031      7.806      0.000       0.180       0.302\n",
      "car_porsche               0.1001      0.052      1.914      0.058      -0.003       0.203\n",
      "enginelocation_rear       0.3474      0.090      3.872      0.000       0.170       0.525\n",
      "cylindernumber_three      0.1917      0.071      2.682      0.008       0.050       0.333\n",
      "cylindernumber_twelve    -0.1324      0.082     -1.610      0.110      -0.295       0.030\n",
      "cylindernumber_two        0.1859      0.038      4.873      0.000       0.110       0.261\n",
      "==============================================================================\n",
      "Omnibus:                        8.294   Durbin-Watson:                   2.013\n",
      "Prob(Omnibus):                  0.016   Jarque-Bera (JB):                8.605\n",
      "Skew:                           0.459   Prob(JB):                       0.0135\n",
      "Kurtosis:                       3.776   Cond. No.                         24.2\n",
      "==============================================================================\n",
      "\n",
      "Warnings:\n",
      "[1] Standard Errors assume that the covariance matrix of the errors is correctly specified.\n",
      "                features    VIF\n",
      "0               carwidth  17.88\n",
      "1             enginesize  13.64\n",
      "2              boreratio   9.52\n",
      "3                car_bmw   1.18\n",
      "4            car_porsche   1.59\n",
      "5    enginelocation_rear   1.61\n",
      "6   cylindernumber_three   1.01\n",
      "7  cylindernumber_twelve   1.40\n",
      "8     cylindernumber_two   1.20\n"
     ]
    }
   ],
   "source": [
    "\n",
    "#first model after removing curbweight as it has highest VIF\n",
    "\n",
    "cols1=['carwidth', 'enginesize', 'boreratio', 'car_bmw',\n",
    "       'car_porsche', 'enginelocation_rear', 'cylindernumber_three',\n",
    "       'cylindernumber_twelve', 'cylindernumber_two']\n",
    "\n",
    "x_train1=x_train[cols1]\n",
    "\n",
    "x_train_lm1=sm.add_constant(x_train1)\n",
    "lrm1=sm.OLS(y_train,x_train_lm1).fit()\n",
    "print(lrm1.summary())\n",
    "\n",
    "vif=pd.DataFrame()\n",
    "vif['features']=x_train1.columns\n",
    "vif['VIF']=[variance_inflation_factor(x_train1.values,i) for i in range(x_train1.shape[1])]\n",
    "vif['VIF']=round(vif['VIF'],2)\n",
    "vif.sort_values(by='VIF',ascending=False)\n",
    "print(vif)"
   ]
  },
  {
   "cell_type": "markdown",
   "metadata": {},
   "source": [
    "We can see that adjusted R2 , AIC , BIC decreased but VIF value for others in good shape.\n",
    "Lets try other combination"
   ]
  },
  {
   "cell_type": "code",
   "execution_count": 483,
   "metadata": {},
   "outputs": [
    {
     "name": "stdout",
     "output_type": "stream",
     "text": [
      "                            OLS Regression Results                            \n",
      "==============================================================================\n",
      "Dep. Variable:                  price   R-squared:                       0.896\n",
      "Model:                            OLS   Adj. R-squared:                  0.889\n",
      "Method:                 Least Squares   F-statistic:                     127.5\n",
      "Date:                Sat, 26 Jan 2019   Prob (F-statistic):           6.23e-61\n",
      "Time:                        01:20:05   Log-Likelihood:                 178.87\n",
      "No. Observations:                 143   AIC:                            -337.7\n",
      "Df Residuals:                     133   BIC:                            -308.1\n",
      "Df Model:                           9                                         \n",
      "Covariance Type:            nonrobust                                         \n",
      "=========================================================================================\n",
      "                            coef    std err          t      P>|t|      [0.025      0.975]\n",
      "-----------------------------------------------------------------------------------------\n",
      "const                    -0.1097      0.017     -6.518      0.000      -0.143      -0.076\n",
      "curbweight                0.5263      0.071      7.426      0.000       0.386       0.666\n",
      "enginesize                0.6024      0.105      5.760      0.000       0.396       0.809\n",
      "boreratio                -0.1039      0.040     -2.625      0.010      -0.182      -0.026\n",
      "car_bmw                   0.2247      0.032      7.113      0.000       0.162       0.287\n",
      "car_porsche               0.2230      0.055      4.086      0.000       0.115       0.331\n",
      "enginelocation_rear       0.2116      0.089      2.372      0.019       0.035       0.388\n",
      "cylindernumber_three      0.1295      0.073      1.771      0.079      -0.015       0.274\n",
      "cylindernumber_twelve    -0.0713      0.088     -0.810      0.420      -0.245       0.103\n",
      "cylindernumber_two        0.1670      0.040      4.130      0.000       0.087       0.247\n",
      "==============================================================================\n",
      "Omnibus:                        7.955   Durbin-Watson:                   1.915\n",
      "Prob(Omnibus):                  0.019   Jarque-Bera (JB):               14.003\n",
      "Skew:                           0.159   Prob(JB):                     0.000911\n",
      "Kurtosis:                       4.500   Cond. No.                         27.8\n",
      "==============================================================================\n",
      "\n",
      "Warnings:\n",
      "[1] Standard Errors assume that the covariance matrix of the errors is correctly specified.\n",
      "                features    VIF\n",
      "0             curbweight  29.13\n",
      "1             enginesize  24.82\n",
      "2              boreratio   8.29\n",
      "3                car_bmw   1.15\n",
      "4            car_porsche   1.65\n",
      "5    enginelocation_rear   1.54\n",
      "6   cylindernumber_three   1.01\n",
      "7  cylindernumber_twelve   1.49\n",
      "8     cylindernumber_two   1.26\n"
     ]
    }
   ],
   "source": [
    "\n",
    "#first model after removing carwidth as it has 2nd highest VIF after 1st model\n",
    "cols2=[ 'curbweight', 'enginesize', 'boreratio', 'car_bmw',\n",
    "       'car_porsche', 'enginelocation_rear', 'cylindernumber_three',\n",
    "       'cylindernumber_twelve', 'cylindernumber_two']\n",
    "\n",
    "x_train2=x_train[cols2]\n",
    "\n",
    "x_train_lm2=sm.add_constant(x_train2)\n",
    "lrm2=sm.OLS(y_train,x_train_lm2).fit()\n",
    "print(lrm2.summary())\n",
    "\n",
    "vif=pd.DataFrame()\n",
    "vif['features']=x_train2.columns\n",
    "vif['VIF']=[variance_inflation_factor(x_train2.values,i) for i in range(x_train2.shape[1])]\n",
    "vif['VIF']=round(vif['VIF'],2)\n",
    "vif.sort_values(by='VIF',ascending=False)\n",
    "print(vif)"
   ]
  },
  {
   "cell_type": "code",
   "execution_count": 484,
   "metadata": {},
   "outputs": [
    {
     "name": "stdout",
     "output_type": "stream",
     "text": [
      "                            OLS Regression Results                            \n",
      "==============================================================================\n",
      "Dep. Variable:                  price   R-squared:                       0.889\n",
      "Model:                            OLS   Adj. R-squared:                  0.881\n",
      "Method:                 Least Squares   F-statistic:                     118.1\n",
      "Date:                Sat, 26 Jan 2019   Prob (F-statistic):           5.65e-59\n",
      "Time:                        01:20:05   Log-Likelihood:                 174.00\n",
      "No. Observations:                 143   AIC:                            -328.0\n",
      "Df Residuals:                     133   BIC:                            -298.4\n",
      "Df Model:                           9                                         \n",
      "Covariance Type:            nonrobust                                         \n",
      "=========================================================================================\n",
      "                            coef    std err          t      P>|t|      [0.025      0.975]\n",
      "-----------------------------------------------------------------------------------------\n",
      "const                    -0.1596      0.021     -7.678      0.000      -0.201      -0.118\n",
      "carwidth                  0.3528      0.075      4.714      0.000       0.205       0.501\n",
      "curbweight                0.6075      0.068      8.894      0.000       0.472       0.743\n",
      "boreratio                -0.1112      0.041     -2.715      0.008      -0.192      -0.030\n",
      "car_bmw                   0.2918      0.032      9.170      0.000       0.229       0.355\n",
      "car_porsche               0.2002      0.058      3.457      0.001       0.086       0.315\n",
      "enginelocation_rear       0.4148      0.095      4.375      0.000       0.227       0.602\n",
      "cylindernumber_three      0.1808      0.077      2.362      0.020       0.029       0.332\n",
      "cylindernumber_twelve     0.2058      0.077      2.679      0.008       0.054       0.358\n",
      "cylindernumber_two        0.0590      0.038      1.559      0.121      -0.016       0.134\n",
      "==============================================================================\n",
      "Omnibus:                       19.447   Durbin-Watson:                   2.019\n",
      "Prob(Omnibus):                  0.000   Jarque-Bera (JB):               48.080\n",
      "Skew:                           0.501   Prob(JB):                     3.63e-11\n",
      "Kurtosis:                       5.658   Cond. No.                         23.8\n",
      "==============================================================================\n",
      "\n",
      "Warnings:\n",
      "[1] Standard Errors assume that the covariance matrix of the errors is correctly specified.\n",
      "                features    VIF\n",
      "0               carwidth  25.06\n",
      "1             curbweight  22.45\n",
      "2              boreratio   9.77\n",
      "3                car_bmw   1.10\n",
      "4            car_porsche   1.64\n",
      "5    enginelocation_rear   1.57\n",
      "6   cylindernumber_three   1.01\n",
      "7  cylindernumber_twelve   1.06\n",
      "8     cylindernumber_two   1.04\n"
     ]
    }
   ],
   "source": [
    "\n",
    "#first model after removing enginsize as it has 3rd highest VIF after 1st model\n",
    "\n",
    "cols3=['carwidth', 'curbweight', 'boreratio', 'car_bmw',\n",
    "       'car_porsche', 'enginelocation_rear', 'cylindernumber_three',\n",
    "       'cylindernumber_twelve', 'cylindernumber_two']\n",
    "\n",
    "x_train3=x_train[cols3]\n",
    "\n",
    "x_train_lm3=sm.add_constant(x_train3)\n",
    "lrm3=sm.OLS(y_train,x_train_lm3).fit()\n",
    "print(lrm3.summary())\n",
    "\n",
    "vif=pd.DataFrame()\n",
    "vif['features']=x_train3.columns\n",
    "vif['VIF']=[variance_inflation_factor(x_train3.values,i) for i in range(x_train3.shape[1])]\n",
    "vif['VIF']=round(vif['VIF'],2)\n",
    "vif.sort_values(by='VIF',ascending=False)\n",
    "print(vif)"
   ]
  },
  {
   "cell_type": "markdown",
   "metadata": {},
   "source": [
    "We can see that adjusted R2 , AIC , BIC decreased but VIF value for others is not as good as 2nd model.\n",
    "Lets try other combination"
   ]
  },
  {
   "cell_type": "code",
   "execution_count": 485,
   "metadata": {},
   "outputs": [
    {
     "name": "stdout",
     "output_type": "stream",
     "text": [
      "                            OLS Regression Results                            \n",
      "==============================================================================\n",
      "Dep. Variable:                  price   R-squared:                       0.853\n",
      "Model:                            OLS   Adj. R-squared:                  0.844\n",
      "Method:                 Least Squares   F-statistic:                     97.25\n",
      "Date:                Sat, 26 Jan 2019   Prob (F-statistic):           5.38e-52\n",
      "Time:                        01:20:05   Log-Likelihood:                 154.07\n",
      "No. Observations:                 143   AIC:                            -290.1\n",
      "Df Residuals:                     134   BIC:                            -263.5\n",
      "Df Model:                           8                                         \n",
      "Covariance Type:            nonrobust                                         \n",
      "=========================================================================================\n",
      "                            coef    std err          t      P>|t|      [0.025      0.975]\n",
      "-----------------------------------------------------------------------------------------\n",
      "const                    -0.0994      0.020     -5.004      0.000      -0.139      -0.060\n",
      "enginesize                1.2558      0.067     18.741      0.000       1.123       1.388\n",
      "boreratio                -0.0047      0.044     -0.105      0.916      -0.092       0.083\n",
      "car_bmw                   0.1884      0.037      5.096      0.000       0.115       0.262\n",
      "car_porsche               0.1509      0.064      2.370      0.019       0.025       0.277\n",
      "enginelocation_rear       0.1209      0.105      1.155      0.250      -0.086       0.328\n",
      "cylindernumber_three      0.1012      0.087      1.169      0.245      -0.070       0.272\n",
      "cylindernumber_twelve    -0.3000      0.098     -3.071      0.003      -0.493      -0.107\n",
      "cylindernumber_two        0.2656      0.045      5.872      0.000       0.176       0.355\n",
      "==============================================================================\n",
      "Omnibus:                       16.109   Durbin-Watson:                   2.067\n",
      "Prob(Omnibus):                  0.000   Jarque-Bera (JB):               23.507\n",
      "Skew:                           0.607   Prob(JB):                     7.86e-06\n",
      "Kurtosis:                       4.572   Cond. No.                         18.3\n",
      "==============================================================================\n",
      "\n",
      "Warnings:\n",
      "[1] Standard Errors assume that the covariance matrix of the errors is correctly specified.\n",
      "                features     VIF\n",
      "0             enginesize  6.9800\n",
      "1              boreratio  6.4001\n",
      "2                car_bmw  1.1246\n",
      "3            car_porsche  1.5864\n",
      "4    enginelocation_rear  1.5119\n",
      "5   cylindernumber_three  1.0051\n",
      "6  cylindernumber_twelve  1.2939\n",
      "7     cylindernumber_two  1.1195\n"
     ]
    }
   ],
   "source": [
    "#model after removing carwidth  and curbweight \n",
    "cols4=[ 'enginesize', 'boreratio', 'car_bmw',\n",
    "       'car_porsche', 'enginelocation_rear', 'cylindernumber_three',\n",
    "       'cylindernumber_twelve', 'cylindernumber_two']\n",
    "\n",
    "x_train4=x_train[cols4]\n",
    "\n",
    "x_train_lm4=sm.add_constant(x_train4)\n",
    "lrm4=sm.OLS(y_train,x_train_lm4).fit()\n",
    "print(lrm4.summary())\n",
    "\n",
    "vif=pd.DataFrame()\n",
    "vif['features']=x_train4.columns\n",
    "vif['VIF']=[variance_inflation_factor(x_train4.values,i) for i in range(x_train4.shape[1])]\n",
    "vif['VIF']=round(vif['VIF'],4)\n",
    "vif.sort_values(by='VIF',ascending=False)\n",
    "print(vif)"
   ]
  },
  {
   "cell_type": "markdown",
   "metadata": {},
   "source": [
    "We can see that adjusted R2 , AIC , BIC decreased but VIF value is almost in range.\n",
    "Lets try other combination for better p value and better VIF"
   ]
  },
  {
   "cell_type": "code",
   "execution_count": 486,
   "metadata": {},
   "outputs": [
    {
     "name": "stdout",
     "output_type": "stream",
     "text": [
      "                            OLS Regression Results                            \n",
      "==============================================================================\n",
      "Dep. Variable:                  price   R-squared:                       0.853\n",
      "Model:                            OLS   Adj. R-squared:                  0.845\n",
      "Method:                 Least Squares   F-statistic:                     112.0\n",
      "Date:                Sat, 26 Jan 2019   Prob (F-statistic):           4.92e-53\n",
      "Time:                        01:20:05   Log-Likelihood:                 154.07\n",
      "No. Observations:                 143   AIC:                            -292.1\n",
      "Df Residuals:                     135   BIC:                            -268.4\n",
      "Df Model:                           7                                         \n",
      "Covariance Type:            nonrobust                                         \n",
      "=========================================================================================\n",
      "                            coef    std err          t      P>|t|      [0.025      0.975]\n",
      "-----------------------------------------------------------------------------------------\n",
      "const                    -0.1008      0.015     -6.731      0.000      -0.130      -0.071\n",
      "enginesize                1.2520      0.056     22.262      0.000       1.141       1.363\n",
      "car_bmw                   0.1885      0.037      5.119      0.000       0.116       0.261\n",
      "car_porsche               0.1492      0.062      2.425      0.017       0.028       0.271\n",
      "enginelocation_rear       0.1219      0.104      1.173      0.243      -0.084       0.327\n",
      "cylindernumber_three      0.1017      0.086      1.181      0.240      -0.069       0.272\n",
      "cylindernumber_twelve    -0.2980      0.095     -3.121      0.002      -0.487      -0.109\n",
      "cylindernumber_two        0.2648      0.044      5.974      0.000       0.177       0.352\n",
      "==============================================================================\n",
      "Omnibus:                       16.031   Durbin-Watson:                   2.067\n",
      "Prob(Omnibus):                  0.000   Jarque-Bera (JB):               23.366\n",
      "Skew:                           0.605   Prob(JB):                     8.44e-06\n",
      "Kurtosis:                       4.568   Cond. No.                         16.1\n",
      "==============================================================================\n",
      "\n",
      "Warnings:\n",
      "[1] Standard Errors assume that the covariance matrix of the errors is correctly specified.\n",
      "                features      VIF\n",
      "0             enginesize  1.29225\n",
      "1                car_bmw  1.11120\n",
      "2            car_porsche  1.56336\n",
      "3    enginelocation_rear  1.50045\n",
      "4   cylindernumber_three  1.00000\n",
      "5  cylindernumber_twelve  1.11022\n",
      "6     cylindernumber_two  1.00083\n"
     ]
    }
   ],
   "source": [
    "#model after removing carwidth ,curbweight , boreratio \n",
    "cols5=[ 'enginesize', 'car_bmw',\n",
    "       'car_porsche', 'enginelocation_rear', 'cylindernumber_three',\n",
    "       'cylindernumber_twelve', 'cylindernumber_two']\n",
    "\t   \n",
    "x_train5=x_train[cols5]\n",
    "\n",
    "x_train_lm5=sm.add_constant(x_train5)\n",
    "lrm5=sm.OLS(y_train,x_train_lm5).fit()\n",
    "print(lrm5.summary())\n",
    "\n",
    "vif=pd.DataFrame()\n",
    "vif['features']=x_train5.columns\n",
    "vif['VIF']=[variance_inflation_factor(x_train5.values,i) for i in range(x_train5.shape[1])]\n",
    "vif['VIF']=round(vif['VIF'],5)\n",
    "vif.sort_values(by='VIF',ascending=False)\n",
    "print(vif)\n"
   ]
  },
  {
   "cell_type": "markdown",
   "metadata": {},
   "source": [
    "We can see that adjusted R2 , AIC , BIC decreased but VIF value is under 2.\n",
    "But few variables p value is insignificant.\n",
    "Lets delete those columns one by one\n"
   ]
  },
  {
   "cell_type": "code",
   "execution_count": 487,
   "metadata": {},
   "outputs": [
    {
     "name": "stdout",
     "output_type": "stream",
     "text": [
      "                            OLS Regression Results                            \n",
      "==============================================================================\n",
      "Dep. Variable:                  price   R-squared:                       0.852\n",
      "Model:                            OLS   Adj. R-squared:                  0.845\n",
      "Method:                 Least Squares   F-statistic:                     130.0\n",
      "Date:                Sat, 26 Jan 2019   Prob (F-statistic):           8.14e-54\n",
      "Time:                        01:20:05   Log-Likelihood:                 153.34\n",
      "No. Observations:                 143   AIC:                            -292.7\n",
      "Df Residuals:                     136   BIC:                            -271.9\n",
      "Df Model:                           6                                         \n",
      "Covariance Type:            nonrobust                                         \n",
      "=========================================================================================\n",
      "                            coef    std err          t      P>|t|      [0.025      0.975]\n",
      "-----------------------------------------------------------------------------------------\n",
      "const                    -0.1013      0.015     -6.760      0.000      -0.131      -0.072\n",
      "enginesize                1.2543      0.056     22.285      0.000       1.143       1.366\n",
      "car_bmw                   0.1881      0.037      5.101      0.000       0.115       0.261\n",
      "car_porsche               0.1893      0.051      3.696      0.000       0.088       0.291\n",
      "cylindernumber_three      0.1022      0.086      1.186      0.238      -0.068       0.273\n",
      "cylindernumber_twelve    -0.2998      0.096     -3.135      0.002      -0.489      -0.111\n",
      "cylindernumber_two        0.2652      0.044      5.975      0.000       0.177       0.353\n",
      "==============================================================================\n",
      "Omnibus:                       15.257   Durbin-Watson:                   2.084\n",
      "Prob(Omnibus):                  0.000   Jarque-Bera (JB):               21.454\n",
      "Skew:                           0.593   Prob(JB):                     2.19e-05\n",
      "Kurtosis:                       4.481   Cond. No.                         14.8\n",
      "==============================================================================\n",
      "\n",
      "Warnings:\n",
      "[1] Standard Errors assume that the covariance matrix of the errors is correctly specified.\n",
      "                features       VIF\n",
      "0             enginesize  1.291855\n",
      "1                car_bmw  1.111165\n",
      "2            car_porsche  1.069677\n",
      "3   cylindernumber_three  1.000000\n",
      "4  cylindernumber_twelve  1.110183\n",
      "5     cylindernumber_two  1.000830\n"
     ]
    }
   ],
   "source": [
    "#model after removing carwidth  and curbweight , boreratio ,enginelocation_rear\n",
    "cols6=[ 'enginesize', 'car_bmw',\n",
    "       'car_porsche','cylindernumber_three',\n",
    "       'cylindernumber_twelve', 'cylindernumber_two']\n",
    "\n",
    "x_train6=x_train[cols6]\n",
    "\n",
    "x_train_lm6=sm.add_constant(x_train6)\n",
    "lrm6=sm.OLS(y_train,x_train_lm6).fit()\n",
    "print(lrm6.summary())\n",
    "\n",
    "vif=pd.DataFrame()\n",
    "vif['features']=x_train6.columns\n",
    "vif['VIF']=[variance_inflation_factor(x_train6.values,i) for i in range(x_train6.shape[1])]\n",
    "vif['VIF']=round(vif['VIF'],6)\n",
    "vif.sort_values(by='VIF',ascending=False)\n",
    "print(vif)"
   ]
  },
  {
   "cell_type": "markdown",
   "metadata": {},
   "source": [
    "We can see that adjusted R2 , AIC , BIC decreased but VIF value for others in good shape.\n",
    "still I can see p value of cylindernumber_three  is bit insignificant compared to others.\n",
    "Lets eliminate it and try again"
   ]
  },
  {
   "cell_type": "code",
   "execution_count": 488,
   "metadata": {},
   "outputs": [
    {
     "name": "stdout",
     "output_type": "stream",
     "text": [
      "                            OLS Regression Results                            \n",
      "==============================================================================\n",
      "Dep. Variable:                  price   R-squared:                       0.850\n",
      "Model:                            OLS   Adj. R-squared:                  0.845\n",
      "Method:                 Least Squares   F-statistic:                     155.3\n",
      "Date:                Sat, 26 Jan 2019   Prob (F-statistic):           1.24e-54\n",
      "Time:                        01:20:06   Log-Likelihood:                 152.61\n",
      "No. Observations:                 143   AIC:                            -293.2\n",
      "Df Residuals:                     137   BIC:                            -275.4\n",
      "Df Model:                           5                                         \n",
      "Covariance Type:            nonrobust                                         \n",
      "=========================================================================================\n",
      "                            coef    std err          t      P>|t|      [0.025      0.975]\n",
      "-----------------------------------------------------------------------------------------\n",
      "const                    -0.0982      0.015     -6.645      0.000      -0.127      -0.069\n",
      "enginesize                1.2442      0.056     22.328      0.000       1.134       1.354\n",
      "car_bmw                   0.1892      0.037      5.123      0.000       0.116       0.262\n",
      "car_porsche               0.1909      0.051      3.721      0.000       0.089       0.292\n",
      "cylindernumber_twelve    -0.2928      0.096     -3.064      0.003      -0.482      -0.104\n",
      "cylindernumber_two        0.2625      0.044      5.914      0.000       0.175       0.350\n",
      "==============================================================================\n",
      "Omnibus:                       15.023   Durbin-Watson:                   2.069\n",
      "Prob(Omnibus):                  0.001   Jarque-Bera (JB):               20.294\n",
      "Skew:                           0.603   Prob(JB):                     3.92e-05\n",
      "Kurtosis:                       4.396   Cond. No.                         14.6\n",
      "==============================================================================\n",
      "\n",
      "Warnings:\n",
      "[1] Standard Errors assume that the covariance matrix of the errors is correctly specified.\n",
      "                features       VIF\n",
      "0             enginesize  1.291855\n",
      "1                car_bmw  1.111165\n",
      "2            car_porsche  1.069677\n",
      "3  cylindernumber_twelve  1.110183\n",
      "4     cylindernumber_two  1.000830\n"
     ]
    }
   ],
   "source": [
    "#model after removing carwidth  and curbweight , boreratio ,enginelocation_rear, cylindernumber_three\n",
    "cols7=[ 'enginesize', 'car_bmw',\n",
    "       'car_porsche',\n",
    "       'cylindernumber_twelve', 'cylindernumber_two']\n",
    "x_train7=x_train[cols7]\n",
    "\n",
    "x_train_lm7=sm.add_constant(x_train7)\n",
    "lrm7=sm.OLS(y_train,x_train_lm7).fit()\n",
    "print(lrm7.summary())\n",
    "\n",
    "vif=pd.DataFrame()\n",
    "vif['features']=x_train7.columns\n",
    "vif['VIF']=[variance_inflation_factor(x_train7.values,i) for i in range(x_train7.shape[1])]\n",
    "vif['VIF']=round(vif['VIF'],7)\n",
    "vif.sort_values(by='VIF',ascending=False)\n",
    "print(vif)"
   ]
  },
  {
   "cell_type": "markdown",
   "metadata": {},
   "source": [
    "This model looks great and I am going ahead for prediction for this model"
   ]
  },
  {
   "cell_type": "code",
   "execution_count": 489,
   "metadata": {},
   "outputs": [
    {
     "name": "stdout",
     "output_type": "stream",
     "text": [
      "mean square error is:  0.006927766816795251\n",
      "r2 square value is:  0.8500268036485336\n"
     ]
    }
   ],
   "source": [
    "#making prediction using lrm7\n",
    "from sklearn.metrics import mean_squared_error,r2_score\n",
    "y_predicted_price=lrm7.predict(x_train_lm7)\n",
    "mse = mean_squared_error(y_train, y_predicted_price)\n",
    "r_squared = r2_score(y_train, y_predicted_price)\n",
    "print(\"mean square error is: \",mse)\n",
    "print(\"r2 square value is: \",r_squared)\n"
   ]
  },
  {
   "cell_type": "code",
   "execution_count": 490,
   "metadata": {},
   "outputs": [
    {
     "data": {
      "text/plain": [
       "Text(0,0.5,'price')"
      ]
     },
     "execution_count": 490,
     "metadata": {},
     "output_type": "execute_result"
    },
    {
     "data": {
      "image/png": "[encoded data removed]",
      "text/plain": [
       "<Figure size 432x288 with 1 Axes>"
      ]
     },
     "metadata": {
      "needs_background": "light"
     },
     "output_type": "display_data"
    }
   ],
   "source": [
    "#Actual vs Predicted\n",
    "c = [i for i in range(1,144,1)]\n",
    "fig = plt.figure()\n",
    "plt.plot(c,y_train, color=\"blue\", linewidth=2.5, linestyle=\"-\")\n",
    "plt.plot(c,y_predicted_price, color=\"red\",  linewidth=2.5, linestyle=\"-\")\n",
    "fig.suptitle('Actual and Predicted', fontsize=20)              # Plot heading \n",
    "plt.xlabel('index', fontsize=18)                               # X-label\n",
    "plt.ylabel('price', fontsize=16)                               # Y-label\n",
    "\n",
    "#so we can see most price prediction is matching with actual data"
   ]
  },
  {
   "cell_type": "code",
   "execution_count": null,
   "metadata": {},
   "outputs": [],
   "source": []
  },
  {
   "cell_type": "code",
   "execution_count": 491,
   "metadata": {},
   "outputs": [
    {
     "name": "stderr",
     "output_type": "stream",
     "text": [
      "C:\\Users\\prabal.paul\\AppData\\Local\\Continuum\\anaconda3\\lib\\site-packages\\scipy\\stats\\stats.py:1713: FutureWarning: Using a non-tuple sequence for multidimensional indexing is deprecated; use `arr[tuple(seq)]` instead of `arr[seq]`. In the future this will be interpreted as an array index, `arr[np.array(seq)]`, which will result either in an error or a different result.\n",
      "  return np.add.reduce(sorted[indexer] * weights, axis=axis) / sumval\n"
     ]
    },
    {
     "data": {
      "text/plain": [
       "<matplotlib.axes._subplots.AxesSubplot at 0x23f550fbcc0>"
      ]
     },
     "execution_count": 491,
     "metadata": {},
     "output_type": "execute_result"
    },
    {
     "data": {
      "image/png": "[encoded data removed]",
      "text/plain": [
       "<Figure size 432x288 with 1 Axes>"
      ]
     },
     "metadata": {
      "needs_background": "light"
     },
     "output_type": "display_data"
    }
   ],
   "source": [
    "#Residual analysis\n",
    "res=y_train-y_predicted_price\n",
    "sns.distplot(res)\n",
    "#we can see mean is at 0 and it is normally distributed"
   ]
  },
  {
   "cell_type": "code",
   "execution_count": 492,
   "metadata": {},
   "outputs": [
    {
     "data": {
      "text/plain": [
       "<matplotlib.axes._subplots.AxesSubplot at 0x23f5510fc18>"
      ]
     },
     "execution_count": 492,
     "metadata": {},
     "output_type": "execute_result"
    },
    {
     "data": {
      "image/png": "[encoded data removed]",
      "text/plain": [
       "<Figure size 432x288 with 1 Axes>"
      ]
     },
     "metadata": {
      "needs_background": "light"
     },
     "output_type": "display_data"
    }
   ],
   "source": [
    "sns.scatterplot(y_train, y_predicted_price)\n",
    "#We can't see any visible pattern here which is good"
   ]
  },
  {
   "cell_type": "code",
   "execution_count": 493,
   "metadata": {},
   "outputs": [
    {
     "name": "stderr",
     "output_type": "stream",
     "text": [
      "C:\\Users\\prabal.paul\\AppData\\Local\\Continuum\\anaconda3\\lib\\site-packages\\ipykernel_launcher.py:3: SettingWithCopyWarning: \n",
      "A value is trying to be set on a copy of a slice from a DataFrame.\n",
      "Try using .loc[row_indexer,col_indexer] = value instead\n",
      "\n",
      "See the caveats in the documentation: http://pandas.pydata.org/pandas-docs/stable/indexing.html#indexing-view-versus-copy\n",
      "  This is separate from the ipykernel package so we can avoid doing imports until\n",
      "C:\\Users\\prabal.paul\\AppData\\Local\\Continuum\\anaconda3\\lib\\site-packages\\pandas\\core\\indexing.py:543: SettingWithCopyWarning: \n",
      "A value is trying to be set on a copy of a slice from a DataFrame.\n",
      "Try using .loc[row_indexer,col_indexer] = value instead\n",
      "\n",
      "See the caveats in the documentation: http://pandas.pydata.org/pandas-docs/stable/indexing.html#indexing-view-versus-copy\n",
      "  self.obj[item] = s\n"
     ]
    }
   ],
   "source": [
    "#Now use prediction on test model\n",
    "\n",
    "df_test[scale_columns]=scaler.fit_transform(df_test[scale_columns])\n",
    "\n"
   ]
  },
  {
   "cell_type": "code",
   "execution_count": 494,
   "metadata": {},
   "outputs": [],
   "source": [
    "\n",
    "#split x and y dataset of test df\n",
    "y_test=df_test.pop('price')\n",
    "x_test=df_test\n",
    "\n",
    "\n",
    "\n"
   ]
  },
  {
   "cell_type": "code",
   "execution_count": 495,
   "metadata": {},
   "outputs": [],
   "source": [
    "x_test7=x_test[cols7]\n",
    "\n",
    "x_test_lm7=sm.add_constant(x_test7)\n",
    "y_pred_test=lrm7.predict(x_test_lm7)"
   ]
  },
  {
   "cell_type": "code",
   "execution_count": 496,
   "metadata": {},
   "outputs": [
    {
     "data": {
      "text/plain": [
       "<matplotlib.collections.PathCollection at 0x23f5509d7f0>"
      ]
     },
     "execution_count": 496,
     "metadata": {},
     "output_type": "execute_result"
    },
    {
     "data": {
      "image/png": "[encoded data removed]",
      "text/plain": [
       "<Figure size 432x288 with 1 Axes>"
      ]
     },
     "metadata": {
      "needs_background": "light"
     },
     "output_type": "display_data"
    }
   ],
   "source": [
    "#model evaluation\n",
    "plt.scatter(y_test,y_pred_test)\n",
    "#no pattern we can see variables are totally distributed "
   ]
  },
  {
   "cell_type": "code",
   "execution_count": null,
   "metadata": {},
   "outputs": [],
   "source": []
  },
  {
   "cell_type": "code",
   "execution_count": 497,
   "metadata": {},
   "outputs": [
    {
     "data": {
      "text/plain": [
       "Text(0,0.5,'price')"
      ]
     },
     "execution_count": 497,
     "metadata": {},
     "output_type": "execute_result"
    },
    {
     "data": {
      "image/png": "[encoded data removed]",
      "text/plain": [
       "<Figure size 432x288 with 1 Axes>"
      ]
     },
     "metadata": {
      "needs_background": "light"
     },
     "output_type": "display_data"
    }
   ],
   "source": [
    "#Actual vs Predicted\n",
    "c = [i for i in range(1,63,1)]\n",
    "fig = plt.figure()\n",
    "plt.plot(c,y_test, color=\"blue\", linewidth=2.5, linestyle=\"-\")\n",
    "plt.plot(c,y_pred_test, color=\"red\",  linewidth=2.5, linestyle=\"-\")\n",
    "fig.suptitle('Actual and Predicted', fontsize=20)              # Plot heading \n",
    "plt.xlabel('Index', fontsize=18)                               # X-label\n",
    "plt.ylabel('price', fontsize=16)                               # Y-label\n",
    "\n",
    "#so we can see most price prediction is matching with actual data\n",
    "#We can see predict is mostly ok"
   ]
  },
  {
   "cell_type": "code",
   "execution_count": null,
   "metadata": {},
   "outputs": [],
   "source": []
  },
  {
   "cell_type": "code",
   "execution_count": 498,
   "metadata": {},
   "outputs": [
    {
     "name": "stdout",
     "output_type": "stream",
     "text": [
      "mean square error is:  0.010281633581742078\n",
      "r2 square value is:  0.7650771307128431\n"
     ]
    }
   ],
   "source": [
    "#mse and r2 value of test dataset\n",
    "mse = mean_squared_error(y_test, y_pred_test)\n",
    "r_squared = r2_score(y_test, y_pred_test)\n",
    "print(\"mean square error is: \",mse)\n",
    "print(\"r2 square value is: \",r_squared)\n"
   ]
  },
  {
   "cell_type": "code",
   "execution_count": null,
   "metadata": {},
   "outputs": [],
   "source": []
  },
  {
   "cell_type": "code",
   "execution_count": null,
   "metadata": {},
   "outputs": [],
   "source": []
  }
 ],
 "metadata": {
  "kernelspec": {
   "display_name": "Python 3",
   "language": "python",
   "name": "python3"
  },
  "language_info": {
   "codemirror_mode": {
    "name": "ipython",
    "version": 3
   },
   "file_extension": ".py",
   "mimetype": "text/x-python",
   "name": "python",
   "nbconvert_exporter": "python",
   "pygments_lexer": "ipython3",
   "version": "3.7.0"
  }
 },
 "nbformat": 4,
 "nbformat_minor": 2
}
