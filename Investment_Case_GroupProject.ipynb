{
 "cells": [
  {
   "cell_type": "code",
   "execution_count": 1,
   "metadata": {},
   "outputs": [],
   "source": [
    "# Supress Warnings\n",
    "\n",
    "import warnings\n",
    "warnings.filterwarnings('ignore')"
   ]
  },
  {
   "cell_type": "code",
   "execution_count": 2,
   "metadata": {},
   "outputs": [],
   "source": [
    "# Import the numpy and pandas packages\n",
    "\n",
    "import numpy as np\n",
    "import pandas as pd\n",
    "import codecs as cd"
   ]
  },
  {
   "cell_type": "markdown",
   "metadata": {},
   "source": [
    "Load the companies and rounds data (provided on the previous page) into two data frames and name them companies and rounds2 respectively.\n",
    "\n",
    "Import and read the companies text file, funding round details csv. Store it in variables called companies and rounds2."
   ]
  },
  {
   "cell_type": "code",
   "execution_count": 3,
   "metadata": {},
   "outputs": [
    {
     "name": "stdout",
     "output_type": "stream",
     "text": [
      "(66368, 10)\n"
     ]
    }
   ],
   "source": [
    "#save the companies.txt file as proper UTF-8 format before loading in dataframe\n",
    "encodedFile = 'companies_encoded.txt'\n",
    "sourceEncoding = \"utf-8\"\n",
    "targetEncoding = \"utf-8\"\n",
    "source = open(\"companies.txt\",errors='ignore')\n",
    "target = open(encodedFile, \"wb\")\n",
    "\n",
    "target.write(str(source.read()).encode(targetEncoding))\n",
    "companies = pd.read_csv(encodedFile, sep='\\t',encoding='UTF-8') # read the txt using read_csv command.\n",
    "companies.head()\n",
    "print(companies.shape) # (66368 rows, 10columns)"
   ]
  },
  {
   "cell_type": "code",
   "execution_count": 4,
   "metadata": {},
   "outputs": [
    {
     "name": "stdout",
     "output_type": "stream",
     "text": [
      "(114949, 6)\n"
     ]
    }
   ],
   "source": [
    "#save the rounds2.csv file as proper UTF-8 format before loading in dataframe\n",
    "encodedFile = 'rounds2_encoded.csv'\n",
    "sourceEncoding = \"utf-8\"\n",
    "targetEncoding = \"utf-8\"\n",
    "source = open(\"rounds2.csv\",errors='ignore')\n",
    "target = open(encodedFile, \"wb\")\n",
    "\n",
    "target.write(str(source.read()).encode(targetEncoding))\n",
    "rounds2 = pd.read_csv(encodedFile,encoding='UTF-8') # read the txt using read_csv command.\n",
    "rounds2.head()\n",
    "print(rounds2.shape) #114949 rows, 6 columns"
   ]
  },
  {
   "cell_type": "code",
   "execution_count": 21,
   "metadata": {},
   "outputs": [
    {
     "data": {
      "text/plain": [
       "66368"
      ]
     },
     "execution_count": 21,
     "metadata": {},
     "output_type": "execute_result"
    }
   ],
   "source": [
    "#Table 1.1, Question 1: How many unique companies are present in rounds 2\n",
    "rounds2['company_permalink'].nunique()\n",
    "rounds2.head()\n",
    "rounds2['company_permalink'].str.lower().nunique()"
   ]
  },
  {
   "cell_type": "code",
   "execution_count": 25,
   "metadata": {},
   "outputs": [
    {
     "data": {
      "text/plain": [
       "66368"
      ]
     },
     "execution_count": 25,
     "metadata": {},
     "output_type": "execute_result"
    }
   ],
   "source": [
    "#Table 1.1, Question 2: How many unique companies are present in companies\n",
    "companies.head()\n",
    "companies['permalink'].str.lower().nunique()"
   ]
  },
  {
   "cell_type": "code",
   "execution_count": 106,
   "metadata": {},
   "outputs": [],
   "source": [
    "#Table 1.1, Question 3: In the companies data frame, which column can be used as the  unique key for each company? Write the name of the column.\n",
    "#Answer - permalink column"
   ]
  },
  {
   "cell_type": "code",
   "execution_count": 26,
   "metadata": {},
   "outputs": [
    {
     "name": "stdout",
     "output_type": "stream",
     "text": [
      "(0, 7)\n"
     ]
    }
   ],
   "source": [
    "#Table 1.1, Question 4: Are there any companies in the rounds2 file which are not  present in companies ? Answer Y/N.\n",
    "# compare the two columns to get the companies absent in the companies DF\n",
    "rounds2['is_absent_inCompanies'] = rounds2['company_permalink'].str.lower().isin(companies['permalink'].str.lower()).astype(np.int8)\n",
    "AbsentCompanies = rounds2.loc[rounds2.is_absent_inCompanies.apply(lambda x: x==0)]\n",
    "rounds2 = rounds2.drop('is_absent_inCompanies',axis=1)\n",
    "AbsentCompanies.head()\n",
    "print(AbsentCompanies.shape) #0 companies are there in rounds 2 which are absent in companies\n"
   ]
  },
  {
   "cell_type": "code",
   "execution_count": 9,
   "metadata": {
    "scrolled": true
   },
   "outputs": [
    {
     "name": "stdout",
     "output_type": "stream",
     "text": [
      "114949\n"
     ]
    }
   ],
   "source": [
    "#rounds2.loc[~rounds2['company_permalink'].isin(companies['permalink']), :]\n",
    "print(len(rounds2.loc[~rounds2['company_permalink'].isin(companies['permalink']), :]))\n",
    "#print(len(rounds2.loc[companies['permalink']]))"
   ]
  },
  {
   "cell_type": "code",
   "execution_count": 27,
   "metadata": {},
   "outputs": [
    {
     "name": "stdout",
     "output_type": "stream",
     "text": [
      "(114949, 16)\n"
     ]
    }
   ],
   "source": [
    "#Table 1.1, Question 5:Merge the two data frames so that all  variables (columns)  in the companies frame are added to the rounds2 data frame. Name the merged frame master_frame.\n",
    "#lowering the column names and column values before joining\n",
    "rounds2.rename(columns=lambda x: x.lower(), inplace=True)\n",
    "companies.rename(columns=lambda x: x.lower(), inplace=True)\n",
    "rounds2['company_permalink']=rounds2['company_permalink'].str.lower()\n",
    "companies['permalink']=companies['permalink'].str.lower()\n",
    "master_frame = pd.merge(rounds2, companies,  how='left', left_on='company_permalink', right_on = 'permalink')\n",
    "master_frame.head(10)\n",
    "print(master_frame.shape) #114949"
   ]
  },
  {
   "cell_type": "code",
   "execution_count": 28,
   "metadata": {},
   "outputs": [
    {
     "data": {
      "text/plain": [
       "funding_round_type\n",
       "angel                    9.586945e+05\n",
       "convertible_note         1.453439e+06\n",
       "debt_financing           1.704353e+07\n",
       "equity_crowdfunding      5.383682e+05\n",
       "grant                    4.300576e+06\n",
       "non_equity_assistance    4.112031e+05\n",
       "post_ipo_debt            1.687046e+08\n",
       "post_ipo_equity          8.218249e+07\n",
       "private_equity           7.330859e+07\n",
       "product_crowdfunding     1.363131e+06\n",
       "secondary_market         7.964963e+07\n",
       "seed                     7.198180e+05\n",
       "undisclosed              1.924237e+07\n",
       "venture                  1.174895e+07\n",
       "Name: raised_amount_usd, dtype: float64"
      ]
     },
     "execution_count": 28,
     "metadata": {},
     "output_type": "execute_result"
    }
   ],
   "source": [
    "#Table 2.1 Average Values of Investments for Each of these Funding Types\n",
    "#Group by funding type\n",
    "# Apply mean() on each of fundingTypes\n",
    "by_funding_type = master_frame.groupby('funding_round_type')\n",
    "by_funding_type['raised_amount_usd'].mean() #Average funding amount of each funding Type"
   ]
  },
  {
   "cell_type": "code",
   "execution_count": 13,
   "metadata": {},
   "outputs": [
    {
     "data": {
      "text/plain": [
       "funding_round_type\n",
       "angel                     4860\n",
       "convertible_note          1447\n",
       "debt_financing            6682\n",
       "equity_crowdfunding       1228\n",
       "grant                     2124\n",
       "non_equity_assistance       73\n",
       "post_ipo_debt              152\n",
       "post_ipo_equity            628\n",
       "private_equity            1936\n",
       "product_crowdfunding       386\n",
       "secondary_market            30\n",
       "seed                     23603\n",
       "undisclosed               1582\n",
       "venture                  50228\n",
       "Name: raised_amount_usd, dtype: int64"
      ]
     },
     "execution_count": 13,
     "metadata": {},
     "output_type": "execute_result"
    }
   ],
   "source": [
    "by_funding_type['raised_amount_usd'].count() # To check where most investors have invested, which turns out as venture type"
   ]
  },
  {
   "cell_type": "code",
   "execution_count": 29,
   "metadata": {},
   "outputs": [
    {
     "data": {
      "text/html": [
       "<div>\n",
       "<style scoped>\n",
       "    .dataframe tbody tr th:only-of-type {\n",
       "        vertical-align: middle;\n",
       "    }\n",
       "\n",
       "    .dataframe tbody tr th {\n",
       "        vertical-align: top;\n",
       "    }\n",
       "\n",
       "    .dataframe thead th {\n",
       "        text-align: right;\n",
       "    }\n",
       "</style>\n",
       "<table border=\"1\" class=\"dataframe\">\n",
       "  <thead>\n",
       "    <tr style=\"text-align: right;\">\n",
       "      <th></th>\n",
       "    </tr>\n",
       "    <tr>\n",
       "      <th>country_code</th>\n",
       "    </tr>\n",
       "  </thead>\n",
       "  <tbody>\n",
       "    <tr>\n",
       "      <th>USA</th>\n",
       "    </tr>\n",
       "    <tr>\n",
       "      <th>CHN</th>\n",
       "    </tr>\n",
       "    <tr>\n",
       "      <th>GBR</th>\n",
       "    </tr>\n",
       "    <tr>\n",
       "      <th>IND</th>\n",
       "    </tr>\n",
       "    <tr>\n",
       "      <th>CAN</th>\n",
       "    </tr>\n",
       "    <tr>\n",
       "      <th>FRA</th>\n",
       "    </tr>\n",
       "    <tr>\n",
       "      <th>ISR</th>\n",
       "    </tr>\n",
       "    <tr>\n",
       "      <th>DEU</th>\n",
       "    </tr>\n",
       "    <tr>\n",
       "      <th>JPN</th>\n",
       "    </tr>\n",
       "  </tbody>\n",
       "</table>\n",
       "</div>"
      ],
      "text/plain": [
       "Empty DataFrame\n",
       "Columns: []\n",
       "Index: [USA, CHN, GBR, IND, CAN, FRA, ISR, DEU, JPN]"
      ]
     },
     "execution_count": 29,
     "metadata": {},
     "output_type": "execute_result"
    }
   ],
   "source": [
    "#Table 3.1 top nine countries which have received the highest total funding (across ALL sectors for the chosen investment type)\n",
    "get_venture_investmentType_group= by_funding_type.get_group('venture')# use previous dataframe group by_funding_type to get only venture types\n",
    "by_country_type = get_venture_investmentType_group.groupby(['country_code']) # group the result by country code\n",
    "topcountries_withfunding=by_country_type['raised_amount_usd'].sum().sort_values(ascending=False).head(9) # get total investment amount and sort by 9 max countries\n",
    "top9 = topcountries_withfunding.to_frame().iloc[:,0:0]\n",
    "top9"
   ]
  },
  {
   "cell_type": "code",
   "execution_count": 30,
   "metadata": {},
   "outputs": [
    {
     "data": {
      "text/html": [
       "<div>\n",
       "<style scoped>\n",
       "    .dataframe tbody tr th:only-of-type {\n",
       "        vertical-align: middle;\n",
       "    }\n",
       "\n",
       "    .dataframe tbody tr th {\n",
       "        vertical-align: top;\n",
       "    }\n",
       "\n",
       "    .dataframe thead th {\n",
       "        text-align: right;\n",
       "    }\n",
       "</style>\n",
       "<table border=\"1\" class=\"dataframe\">\n",
       "  <thead>\n",
       "    <tr style=\"text-align: right;\">\n",
       "      <th></th>\n",
       "      <th>company_permalink</th>\n",
       "      <th>funding_round_permalink</th>\n",
       "      <th>funding_round_type</th>\n",
       "      <th>funding_round_code</th>\n",
       "      <th>funded_at</th>\n",
       "      <th>raised_amount_usd</th>\n",
       "      <th>permalink</th>\n",
       "      <th>name</th>\n",
       "      <th>homepage_url</th>\n",
       "      <th>category_list</th>\n",
       "      <th>status</th>\n",
       "      <th>country_code</th>\n",
       "      <th>state_code</th>\n",
       "      <th>region</th>\n",
       "      <th>city</th>\n",
       "      <th>founded_at</th>\n",
       "      <th>primary sector</th>\n",
       "    </tr>\n",
       "  </thead>\n",
       "  <tbody>\n",
       "    <tr>\n",
       "      <th>0</th>\n",
       "      <td>/organization/-fame</td>\n",
       "      <td>/funding-round/9a01d05418af9f794eebff7ace91f638</td>\n",
       "      <td>venture</td>\n",
       "      <td>B</td>\n",
       "      <td>05-01-2015</td>\n",
       "      <td>10000000.0</td>\n",
       "      <td>/organization/-fame</td>\n",
       "      <td>#fame</td>\n",
       "      <td>http://livfame.com</td>\n",
       "      <td>Media</td>\n",
       "      <td>operating</td>\n",
       "      <td>IND</td>\n",
       "      <td>16</td>\n",
       "      <td>Mumbai</td>\n",
       "      <td>Mumbai</td>\n",
       "      <td>NaN</td>\n",
       "      <td>Media</td>\n",
       "    </tr>\n",
       "    <tr>\n",
       "      <th>1</th>\n",
       "      <td>/organization/-qounter</td>\n",
       "      <td>/funding-round/22dacff496eb7acb2b901dec1dfe5633</td>\n",
       "      <td>venture</td>\n",
       "      <td>A</td>\n",
       "      <td>14-10-2014</td>\n",
       "      <td>NaN</td>\n",
       "      <td>/organization/-qounter</td>\n",
       "      <td>:Qounter</td>\n",
       "      <td>http://www.qounter.com</td>\n",
       "      <td>Application Platforms|Real Time|Social Network...</td>\n",
       "      <td>operating</td>\n",
       "      <td>USA</td>\n",
       "      <td>DE</td>\n",
       "      <td>DE - Other</td>\n",
       "      <td>Delaware City</td>\n",
       "      <td>04-09-2014</td>\n",
       "      <td>Application Platforms</td>\n",
       "    </tr>\n",
       "    <tr>\n",
       "      <th>2</th>\n",
       "      <td>/organization/-qounter</td>\n",
       "      <td>/funding-round/b44fbb94153f6cdef13083530bb48030</td>\n",
       "      <td>seed</td>\n",
       "      <td>NaN</td>\n",
       "      <td>01-03-2014</td>\n",
       "      <td>700000.0</td>\n",
       "      <td>/organization/-qounter</td>\n",
       "      <td>:Qounter</td>\n",
       "      <td>http://www.qounter.com</td>\n",
       "      <td>Application Platforms|Real Time|Social Network...</td>\n",
       "      <td>operating</td>\n",
       "      <td>USA</td>\n",
       "      <td>DE</td>\n",
       "      <td>DE - Other</td>\n",
       "      <td>Delaware City</td>\n",
       "      <td>04-09-2014</td>\n",
       "      <td>Application Platforms</td>\n",
       "    </tr>\n",
       "    <tr>\n",
       "      <th>3</th>\n",
       "      <td>/organization/-the-one-of-them-inc-</td>\n",
       "      <td>/funding-round/650b8f704416801069bb178a1418776b</td>\n",
       "      <td>venture</td>\n",
       "      <td>B</td>\n",
       "      <td>30-01-2014</td>\n",
       "      <td>3406878.0</td>\n",
       "      <td>/organization/-the-one-of-them-inc-</td>\n",
       "      <td>(THE) ONE of THEM,Inc.</td>\n",
       "      <td>http://oneofthem.jp</td>\n",
       "      <td>Apps|Games|Mobile</td>\n",
       "      <td>operating</td>\n",
       "      <td>NaN</td>\n",
       "      <td>NaN</td>\n",
       "      <td>NaN</td>\n",
       "      <td>NaN</td>\n",
       "      <td>NaN</td>\n",
       "      <td>Apps</td>\n",
       "    </tr>\n",
       "    <tr>\n",
       "      <th>4</th>\n",
       "      <td>/organization/0-6-com</td>\n",
       "      <td>/funding-round/5727accaeaa57461bd22a9bdd945382d</td>\n",
       "      <td>venture</td>\n",
       "      <td>A</td>\n",
       "      <td>19-03-2008</td>\n",
       "      <td>2000000.0</td>\n",
       "      <td>/organization/0-6-com</td>\n",
       "      <td>0-6.com</td>\n",
       "      <td>http://www.0-6.com</td>\n",
       "      <td>Curated Web</td>\n",
       "      <td>operating</td>\n",
       "      <td>CHN</td>\n",
       "      <td>22</td>\n",
       "      <td>Beijing</td>\n",
       "      <td>Beijing</td>\n",
       "      <td>01-01-2007</td>\n",
       "      <td>Curated Web</td>\n",
       "    </tr>\n",
       "  </tbody>\n",
       "</table>\n",
       "</div>"
      ],
      "text/plain": [
       "                     company_permalink  \\\n",
       "0                  /organization/-fame   \n",
       "1               /organization/-qounter   \n",
       "2               /organization/-qounter   \n",
       "3  /organization/-the-one-of-them-inc-   \n",
       "4                /organization/0-6-com   \n",
       "\n",
       "                           funding_round_permalink funding_round_type  \\\n",
       "0  /funding-round/9a01d05418af9f794eebff7ace91f638            venture   \n",
       "1  /funding-round/22dacff496eb7acb2b901dec1dfe5633            venture   \n",
       "2  /funding-round/b44fbb94153f6cdef13083530bb48030               seed   \n",
       "3  /funding-round/650b8f704416801069bb178a1418776b            venture   \n",
       "4  /funding-round/5727accaeaa57461bd22a9bdd945382d            venture   \n",
       "\n",
       "  funding_round_code   funded_at  raised_amount_usd  \\\n",
       "0                  B  05-01-2015         10000000.0   \n",
       "1                  A  14-10-2014                NaN   \n",
       "2                NaN  01-03-2014           700000.0   \n",
       "3                  B  30-01-2014          3406878.0   \n",
       "4                  A  19-03-2008          2000000.0   \n",
       "\n",
       "                             permalink                    name  \\\n",
       "0                  /organization/-fame                   #fame   \n",
       "1               /organization/-qounter                :Qounter   \n",
       "2               /organization/-qounter                :Qounter   \n",
       "3  /organization/-the-one-of-them-inc-  (THE) ONE of THEM,Inc.   \n",
       "4                /organization/0-6-com                 0-6.com   \n",
       "\n",
       "             homepage_url                                      category_list  \\\n",
       "0      http://livfame.com                                              Media   \n",
       "1  http://www.qounter.com  Application Platforms|Real Time|Social Network...   \n",
       "2  http://www.qounter.com  Application Platforms|Real Time|Social Network...   \n",
       "3     http://oneofthem.jp                                  Apps|Games|Mobile   \n",
       "4      http://www.0-6.com                                        Curated Web   \n",
       "\n",
       "      status country_code state_code      region           city  founded_at  \\\n",
       "0  operating          IND         16      Mumbai         Mumbai         NaN   \n",
       "1  operating          USA         DE  DE - Other  Delaware City  04-09-2014   \n",
       "2  operating          USA         DE  DE - Other  Delaware City  04-09-2014   \n",
       "3  operating          NaN        NaN         NaN            NaN         NaN   \n",
       "4  operating          CHN         22     Beijing        Beijing  01-01-2007   \n",
       "\n",
       "          primary sector  \n",
       "0                  Media  \n",
       "1  Application Platforms  \n",
       "2  Application Platforms  \n",
       "3                   Apps  \n",
       "4            Curated Web  "
      ]
     },
     "execution_count": 30,
     "metadata": {},
     "output_type": "execute_result"
    }
   ],
   "source": [
    "#Code to get the primary sector of each category list from the category_list column\n",
    "#split the category_list column using str.split method of pandas, and assign them to the relevant new columns\n",
    "master_frame['primary sector']=master_frame['category_list'].str.split(\"|\", n = -1, expand = True)[0]\n",
    "master_frame.head()"
   ]
  },
  {
   "cell_type": "code",
   "execution_count": 32,
   "metadata": {
    "scrolled": true
   },
   "outputs": [
    {
     "name": "stdout",
     "output_type": "stream",
     "text": [
      "(687, 2)\n"
     ]
    },
    {
     "data": {
      "text/html": [
       "<div>\n",
       "<style scoped>\n",
       "    .dataframe tbody tr th:only-of-type {\n",
       "        vertical-align: middle;\n",
       "    }\n",
       "\n",
       "    .dataframe tbody tr th {\n",
       "        vertical-align: top;\n",
       "    }\n",
       "\n",
       "    .dataframe thead th {\n",
       "        text-align: right;\n",
       "    }\n",
       "</style>\n",
       "<table border=\"1\" class=\"dataframe\">\n",
       "  <thead>\n",
       "    <tr style=\"text-align: right;\">\n",
       "      <th></th>\n",
       "      <th>category_list</th>\n",
       "      <th>main_sector</th>\n",
       "    </tr>\n",
       "  </thead>\n",
       "  <tbody>\n",
       "    <tr>\n",
       "      <th>1</th>\n",
       "      <td>3D</td>\n",
       "      <td>Manufacturing</td>\n",
       "    </tr>\n",
       "    <tr>\n",
       "      <th>2</th>\n",
       "      <td>3D Printing</td>\n",
       "      <td>Manufacturing</td>\n",
       "    </tr>\n",
       "    <tr>\n",
       "      <th>3</th>\n",
       "      <td>3D Technology</td>\n",
       "      <td>Manufacturing</td>\n",
       "    </tr>\n",
       "    <tr>\n",
       "      <th>4</th>\n",
       "      <td>Accounting</td>\n",
       "      <td>Social, Finance, Analytics, Advertising</td>\n",
       "    </tr>\n",
       "    <tr>\n",
       "      <th>5</th>\n",
       "      <td>Active Lifestyle</td>\n",
       "      <td>Health</td>\n",
       "    </tr>\n",
       "  </tbody>\n",
       "</table>\n",
       "</div>"
      ],
      "text/plain": [
       "      category_list                              main_sector\n",
       "1                3D                            Manufacturing\n",
       "2       3D Printing                            Manufacturing\n",
       "3     3D Technology                            Manufacturing\n",
       "4        Accounting  Social, Finance, Analytics, Advertising\n",
       "5  Active Lifestyle                                   Health"
      ]
     },
     "execution_count": 32,
     "metadata": {},
     "output_type": "execute_result"
    }
   ],
   "source": [
    "#Use the mapping file 'mapping.csv' to map each primary sector to one of the eight main sectors\n",
    "#Read mapping.csv file into a dataframe mapping\n",
    "mapping = pd.read_csv('mapping.csv')\n",
    "mapping = mapping[~mapping['category_list'].isnull()]\n",
    "mapping['category_list'] = mapping['category_list'].str.replace('0','na',regex=True)\n",
    "mapping[\"main_sector\"]=(mapping ==1).idxmax(axis=1)[0:]\n",
    "mapping=mapping.drop(['Automotive & Sports','Blanks','Cleantech / Semiconductors','Entertainment','Health','Manufacturing','News, Search and Messaging','Others','Social, Finance, Analytics, Advertising'],axis=1)\n",
    "\n",
    "print(mapping.shape)\n",
    "mapping.head()\n",
    "\n",
    "#Get the primary sector series from above and merge with mapping DF to get merged DFof primary sector with main sector\n",
    "\n"
   ]
  },
  {
   "cell_type": "code",
   "execution_count": 33,
   "metadata": {},
   "outputs": [],
   "source": [
    "mapping['category_list']=mapping['category_list'].str.lower()\n",
    "master_frame['primary sector']=master_frame['primary sector'].str.lower()\n",
    "\n"
   ]
  },
  {
   "cell_type": "code",
   "execution_count": 34,
   "metadata": {
    "scrolled": false
   },
   "outputs": [
    {
     "data": {
      "text/html": [
       "<div>\n",
       "<style scoped>\n",
       "    .dataframe tbody tr th:only-of-type {\n",
       "        vertical-align: middle;\n",
       "    }\n",
       "\n",
       "    .dataframe tbody tr th {\n",
       "        vertical-align: top;\n",
       "    }\n",
       "\n",
       "    .dataframe thead th {\n",
       "        text-align: right;\n",
       "    }\n",
       "</style>\n",
       "<table border=\"1\" class=\"dataframe\">\n",
       "  <thead>\n",
       "    <tr style=\"text-align: right;\">\n",
       "      <th></th>\n",
       "      <th>company_permalink</th>\n",
       "      <th>funding_round_permalink</th>\n",
       "      <th>funding_round_type</th>\n",
       "      <th>funding_round_code</th>\n",
       "      <th>funded_at</th>\n",
       "      <th>raised_amount_usd</th>\n",
       "      <th>permalink</th>\n",
       "      <th>name</th>\n",
       "      <th>homepage_url</th>\n",
       "      <th>category_list_x</th>\n",
       "      <th>status</th>\n",
       "      <th>country_code</th>\n",
       "      <th>state_code</th>\n",
       "      <th>region</th>\n",
       "      <th>city</th>\n",
       "      <th>founded_at</th>\n",
       "      <th>primary sector</th>\n",
       "      <th>category_list_y</th>\n",
       "      <th>main_sector</th>\n",
       "    </tr>\n",
       "  </thead>\n",
       "  <tbody>\n",
       "    <tr>\n",
       "      <th>5210</th>\n",
       "      <td>/organization/american-cannabis-company</td>\n",
       "      <td>/funding-round/2f25888e8a94ceb9bb1ff241520dbe5c</td>\n",
       "      <td>venture</td>\n",
       "      <td>A</td>\n",
       "      <td>01-05-2014</td>\n",
       "      <td>NaN</td>\n",
       "      <td>/organization/american-cannabis-company</td>\n",
       "      <td>American Cannabis Company</td>\n",
       "      <td>http://www.americancannabisconsulting.com/</td>\n",
       "      <td>Cannabis|Venture Capital</td>\n",
       "      <td>ipo</td>\n",
       "      <td>USA</td>\n",
       "      <td>CO</td>\n",
       "      <td>Denver</td>\n",
       "      <td>Denver</td>\n",
       "      <td>01-01-2013</td>\n",
       "      <td>cannabis</td>\n",
       "      <td>cannabis</td>\n",
       "      <td>Health</td>\n",
       "    </tr>\n",
       "    <tr>\n",
       "      <th>16024</th>\n",
       "      <td>/organization/c-c-shop-llc</td>\n",
       "      <td>/funding-round/db2e138070141f47ccd4f921d233cb65</td>\n",
       "      <td>venture</td>\n",
       "      <td>NaN</td>\n",
       "      <td>08-05-2015</td>\n",
       "      <td>226800.0</td>\n",
       "      <td>/organization/c-c-shop-llc</td>\n",
       "      <td>C &amp; C CANNABIS COMPANY</td>\n",
       "      <td>http://www.cc-shops.com</td>\n",
       "      <td>Cannabis</td>\n",
       "      <td>operating</td>\n",
       "      <td>USA</td>\n",
       "      <td>WA</td>\n",
       "      <td>Seattle</td>\n",
       "      <td>Seattle</td>\n",
       "      <td>07-01-2013</td>\n",
       "      <td>cannabis</td>\n",
       "      <td>cannabis</td>\n",
       "      <td>Health</td>\n",
       "    </tr>\n",
       "    <tr>\n",
       "      <th>16681</th>\n",
       "      <td>/organization/cannabuild</td>\n",
       "      <td>/funding-round/08451ea044904d95b8049676625b77c4</td>\n",
       "      <td>seed</td>\n",
       "      <td>NaN</td>\n",
       "      <td>12-06-2014</td>\n",
       "      <td>225000.0</td>\n",
       "      <td>/organization/cannabuild</td>\n",
       "      <td>CannaBuild</td>\n",
       "      <td>http://cannabuild.me</td>\n",
       "      <td>Cannabis|Healthcare Services|Startups</td>\n",
       "      <td>operating</td>\n",
       "      <td>USA</td>\n",
       "      <td>CO</td>\n",
       "      <td>Denver</td>\n",
       "      <td>Denver</td>\n",
       "      <td>01-02-2014</td>\n",
       "      <td>cannabis</td>\n",
       "      <td>cannabis</td>\n",
       "      <td>Health</td>\n",
       "    </tr>\n",
       "    <tr>\n",
       "      <th>21438</th>\n",
       "      <td>/organization/coastal-compassion</td>\n",
       "      <td>/funding-round/6f76d8bb1c6d8329738f84e2e0326a24</td>\n",
       "      <td>seed</td>\n",
       "      <td>NaN</td>\n",
       "      <td>01-11-2013</td>\n",
       "      <td>NaN</td>\n",
       "      <td>/organization/coastal-compassion</td>\n",
       "      <td>Coastal Compassion</td>\n",
       "      <td>http://coastalcompassion.org/</td>\n",
       "      <td>Cannabis</td>\n",
       "      <td>operating</td>\n",
       "      <td>USA</td>\n",
       "      <td>MA</td>\n",
       "      <td>New Bedford</td>\n",
       "      <td>New Bedford</td>\n",
       "      <td>01-01-2012</td>\n",
       "      <td>cannabis</td>\n",
       "      <td>cannabis</td>\n",
       "      <td>Health</td>\n",
       "    </tr>\n",
       "    <tr>\n",
       "      <th>21439</th>\n",
       "      <td>/organization/coastal-compassion</td>\n",
       "      <td>/funding-round/7cea2bec26f4bb42f7fa80ec9ab4bd88</td>\n",
       "      <td>venture</td>\n",
       "      <td>B</td>\n",
       "      <td>01-11-2014</td>\n",
       "      <td>NaN</td>\n",
       "      <td>/organization/coastal-compassion</td>\n",
       "      <td>Coastal Compassion</td>\n",
       "      <td>http://coastalcompassion.org/</td>\n",
       "      <td>Cannabis</td>\n",
       "      <td>operating</td>\n",
       "      <td>USA</td>\n",
       "      <td>MA</td>\n",
       "      <td>New Bedford</td>\n",
       "      <td>New Bedford</td>\n",
       "      <td>01-01-2012</td>\n",
       "      <td>cannabis</td>\n",
       "      <td>cannabis</td>\n",
       "      <td>Health</td>\n",
       "    </tr>\n",
       "  </tbody>\n",
       "</table>\n",
       "</div>"
      ],
      "text/plain": [
       "                             company_permalink  \\\n",
       "5210   /organization/american-cannabis-company   \n",
       "16024               /organization/c-c-shop-llc   \n",
       "16681                 /organization/cannabuild   \n",
       "21438         /organization/coastal-compassion   \n",
       "21439         /organization/coastal-compassion   \n",
       "\n",
       "                               funding_round_permalink funding_round_type  \\\n",
       "5210   /funding-round/2f25888e8a94ceb9bb1ff241520dbe5c            venture   \n",
       "16024  /funding-round/db2e138070141f47ccd4f921d233cb65            venture   \n",
       "16681  /funding-round/08451ea044904d95b8049676625b77c4               seed   \n",
       "21438  /funding-round/6f76d8bb1c6d8329738f84e2e0326a24               seed   \n",
       "21439  /funding-round/7cea2bec26f4bb42f7fa80ec9ab4bd88            venture   \n",
       "\n",
       "      funding_round_code   funded_at  raised_amount_usd  \\\n",
       "5210                   A  01-05-2014                NaN   \n",
       "16024                NaN  08-05-2015           226800.0   \n",
       "16681                NaN  12-06-2014           225000.0   \n",
       "21438                NaN  01-11-2013                NaN   \n",
       "21439                  B  01-11-2014                NaN   \n",
       "\n",
       "                                     permalink                       name  \\\n",
       "5210   /organization/american-cannabis-company  American Cannabis Company   \n",
       "16024               /organization/c-c-shop-llc     C & C CANNABIS COMPANY   \n",
       "16681                 /organization/cannabuild                 CannaBuild   \n",
       "21438         /organization/coastal-compassion         Coastal Compassion   \n",
       "21439         /organization/coastal-compassion         Coastal Compassion   \n",
       "\n",
       "                                     homepage_url  \\\n",
       "5210   http://www.americancannabisconsulting.com/   \n",
       "16024                     http://www.cc-shops.com   \n",
       "16681                        http://cannabuild.me   \n",
       "21438               http://coastalcompassion.org/   \n",
       "21439               http://coastalcompassion.org/   \n",
       "\n",
       "                             category_list_x     status country_code  \\\n",
       "5210                Cannabis|Venture Capital        ipo          USA   \n",
       "16024                               Cannabis  operating          USA   \n",
       "16681  Cannabis|Healthcare Services|Startups  operating          USA   \n",
       "21438                               Cannabis  operating          USA   \n",
       "21439                               Cannabis  operating          USA   \n",
       "\n",
       "      state_code       region         city  founded_at primary sector  \\\n",
       "5210          CO       Denver       Denver  01-01-2013       cannabis   \n",
       "16024         WA      Seattle      Seattle  07-01-2013       cannabis   \n",
       "16681         CO       Denver       Denver  01-02-2014       cannabis   \n",
       "21438         MA  New Bedford  New Bedford  01-01-2012       cannabis   \n",
       "21439         MA  New Bedford  New Bedford  01-01-2012       cannabis   \n",
       "\n",
       "      category_list_y main_sector  \n",
       "5210         cannabis      Health  \n",
       "16024        cannabis      Health  \n",
       "16681        cannabis      Health  \n",
       "21438        cannabis      Health  \n",
       "21439        cannabis      Health  "
      ]
     },
     "execution_count": 34,
     "metadata": {},
     "output_type": "execute_result"
    }
   ],
   "source": [
    "#Table 5.1\n",
    "#D1- US, D2-UK, D3-IND\n",
    "#1. All the columns of the master_frame along with the primary sector and the main sector\n",
    "merged_df_withmainsector=pd.merge(master_frame,mapping,how='left',left_on='primary sector',right_on='category_list')\n",
    "\n",
    "merged_df_withmainsector.head()\n",
    "merged_df_withmainsector.loc[merged_df_withmainsector['primary sector']==\"cannabis\"].head()## verification of merge table data\n",
    "\n",
    "\n",
    "\n",
    "\n"
   ]
  },
  {
   "cell_type": "code",
   "execution_count": 48,
   "metadata": {},
   "outputs": [
    {
     "name": "stdout",
     "output_type": "stream",
     "text": [
      "(12150, 19)\n"
     ]
    },
    {
     "data": {
      "text/html": [
       "<div>\n",
       "<style scoped>\n",
       "    .dataframe tbody tr th:only-of-type {\n",
       "        vertical-align: middle;\n",
       "    }\n",
       "\n",
       "    .dataframe tbody tr th {\n",
       "        vertical-align: top;\n",
       "    }\n",
       "\n",
       "    .dataframe thead th {\n",
       "        text-align: right;\n",
       "    }\n",
       "</style>\n",
       "<table border=\"1\" class=\"dataframe\">\n",
       "  <thead>\n",
       "    <tr style=\"text-align: right;\">\n",
       "      <th></th>\n",
       "      <th>main_sector</th>\n",
       "      <th>count</th>\n",
       "    </tr>\n",
       "  </thead>\n",
       "  <tbody>\n",
       "    <tr>\n",
       "      <th>6</th>\n",
       "      <td>Others</td>\n",
       "      <td>2950</td>\n",
       "    </tr>\n",
       "    <tr>\n",
       "      <th>7</th>\n",
       "      <td>Social, Finance, Analytics, Advertising</td>\n",
       "      <td>2714</td>\n",
       "    </tr>\n",
       "    <tr>\n",
       "      <th>1</th>\n",
       "      <td>Cleantech / Semiconductors</td>\n",
       "      <td>2350</td>\n",
       "    </tr>\n",
       "    <tr>\n",
       "      <th>5</th>\n",
       "      <td>News, Search and Messaging</td>\n",
       "      <td>1583</td>\n",
       "    </tr>\n",
       "    <tr>\n",
       "      <th>3</th>\n",
       "      <td>Health</td>\n",
       "      <td>909</td>\n",
       "    </tr>\n",
       "    <tr>\n",
       "      <th>4</th>\n",
       "      <td>Manufacturing</td>\n",
       "      <td>799</td>\n",
       "    </tr>\n",
       "    <tr>\n",
       "      <th>2</th>\n",
       "      <td>Entertainment</td>\n",
       "      <td>591</td>\n",
       "    </tr>\n",
       "    <tr>\n",
       "      <th>0</th>\n",
       "      <td>Automotive &amp; Sports</td>\n",
       "      <td>167</td>\n",
       "    </tr>\n",
       "  </tbody>\n",
       "</table>\n",
       "</div>"
      ],
      "text/plain": [
       "                               main_sector  count\n",
       "6                                   Others   2950\n",
       "7  Social, Finance, Analytics, Advertising   2714\n",
       "1               Cleantech / Semiconductors   2350\n",
       "5               News, Search and Messaging   1583\n",
       "3                                   Health    909\n",
       "4                            Manufacturing    799\n",
       "2                            Entertainment    591\n",
       "0                      Automotive & Sports    167"
      ]
     },
     "execution_count": 48,
     "metadata": {},
     "output_type": "execute_result"
    }
   ],
   "source": [
    "#2. D1 for 1st country USA and funding type venture\n",
    "D1 = merged_df_withmainsector[merged_df_withmainsector['country_code'].apply(lambda x: x=='USA')&merged_df_withmainsector['funding_round_type'].apply(lambda x: x=='venture')&merged_df_withmainsector['raised_amount_usd'].apply(lambda x: (x>=5000000 and x<=15000000))]\n",
    "print(D1.shape) \n",
    "D1.head()\n",
    "\n",
    "D1.groupby(['main_sector'])[\"company_permalink\"].count().reset_index(name=\"count\").sort_values(by='count', ascending=False)\n"
   ]
  },
  {
   "cell_type": "code",
   "execution_count": 36,
   "metadata": {},
   "outputs": [
    {
     "data": {
      "text/html": [
       "<div>\n",
       "<style scoped>\n",
       "    .dataframe tbody tr th:only-of-type {\n",
       "        vertical-align: middle;\n",
       "    }\n",
       "\n",
       "    .dataframe tbody tr th {\n",
       "        vertical-align: top;\n",
       "    }\n",
       "\n",
       "    .dataframe thead th {\n",
       "        text-align: right;\n",
       "    }\n",
       "</style>\n",
       "<table border=\"1\" class=\"dataframe\">\n",
       "  <thead>\n",
       "    <tr style=\"text-align: right;\">\n",
       "      <th></th>\n",
       "      <th>main_sector</th>\n",
       "      <th>Total Amount Invested</th>\n",
       "    </tr>\n",
       "  </thead>\n",
       "  <tbody>\n",
       "    <tr>\n",
       "      <th>6</th>\n",
       "      <td>Others</td>\n",
       "      <td>2.632101e+10</td>\n",
       "    </tr>\n",
       "    <tr>\n",
       "      <th>7</th>\n",
       "      <td>Social, Finance, Analytics, Advertising</td>\n",
       "      <td>2.380738e+10</td>\n",
       "    </tr>\n",
       "    <tr>\n",
       "      <th>1</th>\n",
       "      <td>Cleantech / Semiconductors</td>\n",
       "      <td>2.163343e+10</td>\n",
       "    </tr>\n",
       "    <tr>\n",
       "      <th>5</th>\n",
       "      <td>News, Search and Messaging</td>\n",
       "      <td>1.397157e+10</td>\n",
       "    </tr>\n",
       "    <tr>\n",
       "      <th>3</th>\n",
       "      <td>Health</td>\n",
       "      <td>8.211859e+09</td>\n",
       "    </tr>\n",
       "    <tr>\n",
       "      <th>4</th>\n",
       "      <td>Manufacturing</td>\n",
       "      <td>7.258553e+09</td>\n",
       "    </tr>\n",
       "    <tr>\n",
       "      <th>2</th>\n",
       "      <td>Entertainment</td>\n",
       "      <td>5.099198e+09</td>\n",
       "    </tr>\n",
       "    <tr>\n",
       "      <th>0</th>\n",
       "      <td>Automotive &amp; Sports</td>\n",
       "      <td>1.454104e+09</td>\n",
       "    </tr>\n",
       "  </tbody>\n",
       "</table>\n",
       "</div>"
      ],
      "text/plain": [
       "                               main_sector  Total Amount Invested\n",
       "6                                   Others           2.632101e+10\n",
       "7  Social, Finance, Analytics, Advertising           2.380738e+10\n",
       "1               Cleantech / Semiconductors           2.163343e+10\n",
       "5               News, Search and Messaging           1.397157e+10\n",
       "3                                   Health           8.211859e+09\n",
       "4                            Manufacturing           7.258553e+09\n",
       "2                            Entertainment           5.099198e+09\n",
       "0                      Automotive & Sports           1.454104e+09"
      ]
     },
     "execution_count": 36,
     "metadata": {},
     "output_type": "execute_result"
    }
   ],
   "source": [
    "C1_amount_persector= D1.groupby('main_sector')[\"raised_amount_usd\"].sum().reset_index(name=\"Total Amount Invested\")\n",
    "C1_amount_persector.sort_values(by=['Total Amount Invested'], ascending = False, inplace=True)\n",
    "C1_amount_persector"
   ]
  },
  {
   "cell_type": "code",
   "execution_count": 37,
   "metadata": {},
   "outputs": [
    {
     "name": "stdout",
     "output_type": "stream",
     "text": [
      "107757097294.0\n"
     ]
    }
   ],
   "source": [
    "print(C1_amount_persector['Total Amount Invested'].sum())"
   ]
  },
  {
   "cell_type": "code",
   "execution_count": 38,
   "metadata": {},
   "outputs": [
    {
     "data": {
      "text/plain": [
       "name\n",
       "Virtustream    64300000.0\n",
       "Name: raised_amount_usd, dtype: float64"
      ]
     },
     "execution_count": 38,
     "metadata": {},
     "output_type": "execute_result"
    }
   ],
   "source": [
    "#(top sector count-wise), which company received the highest investment?- Others sector\n",
    "D1.loc[D1.main_sector.apply(lambda x:x=='Others')].groupby(['name']).raised_amount_usd.sum().sort_values(ascending=False).head(1)"
   ]
  },
  {
   "cell_type": "code",
   "execution_count": null,
   "metadata": {},
   "outputs": [],
   "source": []
  },
  {
   "cell_type": "code",
   "execution_count": 39,
   "metadata": {},
   "outputs": [
    {
     "data": {
      "text/plain": [
       "name\n",
       "SST Inc. (Formerly ShotSpotter)    67933006.0\n",
       "Name: raised_amount_usd, dtype: float64"
      ]
     },
     "execution_count": 39,
     "metadata": {},
     "output_type": "execute_result"
    }
   ],
   "source": [
    "#(second best sector count-wise), which company received the highest investment?\n",
    "D1.loc[D1.main_sector.apply(lambda x:x=='Social, Finance, Analytics, Advertising')].groupby(['name']).raised_amount_usd.sum().sort_values(ascending=False).head(1)"
   ]
  },
  {
   "cell_type": "code",
   "execution_count": null,
   "metadata": {},
   "outputs": [],
   "source": []
  },
  {
   "cell_type": "code",
   "execution_count": 47,
   "metadata": {},
   "outputs": [
    {
     "name": "stdout",
     "output_type": "stream",
     "text": [
      "(628, 19)\n"
     ]
    },
    {
     "data": {
      "text/html": [
       "<div>\n",
       "<style scoped>\n",
       "    .dataframe tbody tr th:only-of-type {\n",
       "        vertical-align: middle;\n",
       "    }\n",
       "\n",
       "    .dataframe tbody tr th {\n",
       "        vertical-align: top;\n",
       "    }\n",
       "\n",
       "    .dataframe thead th {\n",
       "        text-align: right;\n",
       "    }\n",
       "</style>\n",
       "<table border=\"1\" class=\"dataframe\">\n",
       "  <thead>\n",
       "    <tr style=\"text-align: right;\">\n",
       "      <th></th>\n",
       "      <th>main_sector</th>\n",
       "      <th>count</th>\n",
       "    </tr>\n",
       "  </thead>\n",
       "  <tbody>\n",
       "    <tr>\n",
       "      <th>6</th>\n",
       "      <td>Others</td>\n",
       "      <td>147</td>\n",
       "    </tr>\n",
       "    <tr>\n",
       "      <th>7</th>\n",
       "      <td>Social, Finance, Analytics, Advertising</td>\n",
       "      <td>133</td>\n",
       "    </tr>\n",
       "    <tr>\n",
       "      <th>1</th>\n",
       "      <td>Cleantech / Semiconductors</td>\n",
       "      <td>130</td>\n",
       "    </tr>\n",
       "    <tr>\n",
       "      <th>5</th>\n",
       "      <td>News, Search and Messaging</td>\n",
       "      <td>73</td>\n",
       "    </tr>\n",
       "    <tr>\n",
       "      <th>2</th>\n",
       "      <td>Entertainment</td>\n",
       "      <td>56</td>\n",
       "    </tr>\n",
       "    <tr>\n",
       "      <th>4</th>\n",
       "      <td>Manufacturing</td>\n",
       "      <td>42</td>\n",
       "    </tr>\n",
       "    <tr>\n",
       "      <th>3</th>\n",
       "      <td>Health</td>\n",
       "      <td>24</td>\n",
       "    </tr>\n",
       "    <tr>\n",
       "      <th>0</th>\n",
       "      <td>Automotive &amp; Sports</td>\n",
       "      <td>16</td>\n",
       "    </tr>\n",
       "  </tbody>\n",
       "</table>\n",
       "</div>"
      ],
      "text/plain": [
       "                               main_sector  count\n",
       "6                                   Others    147\n",
       "7  Social, Finance, Analytics, Advertising    133\n",
       "1               Cleantech / Semiconductors    130\n",
       "5               News, Search and Messaging     73\n",
       "2                            Entertainment     56\n",
       "4                            Manufacturing     42\n",
       "3                                   Health     24\n",
       "0                      Automotive & Sports     16"
      ]
     },
     "execution_count": 47,
     "metadata": {},
     "output_type": "execute_result"
    }
   ],
   "source": [
    "D2 = merged_df_withmainsector[ merged_df_withmainsector['country_code'].apply(lambda x: x=='GBR') & merged_df_withmainsector['funding_round_type'].apply(lambda x: x=='venture') & merged_df_withmainsector['raised_amount_usd'].apply(lambda x: (x>=5000000 and x<=15000000))]\n",
    "print(D2.shape) \n",
    "D2.head()\n",
    "\n",
    "D2.groupby(['main_sector'])[\"company_permalink\"].count().reset_index(name=\"count\").sort_values(by='count', ascending=False)\n",
    "\n"
   ]
  },
  {
   "cell_type": "code",
   "execution_count": 49,
   "metadata": {},
   "outputs": [
    {
     "data": {
      "text/plain": [
       "name\n",
       "Electric Cloud    37000000.0\n",
       "Name: raised_amount_usd, dtype: float64"
      ]
     },
     "execution_count": 49,
     "metadata": {},
     "output_type": "execute_result"
    }
   ],
   "source": [
    "#(top sector count-wise), which company received the highest investment?- Others sector\n",
    "D2.loc[D2.main_sector.apply(lambda x:x=='Others')].groupby(['name']).raised_amount_usd.sum().sort_values(ascending=False).head(1)"
   ]
  },
  {
   "cell_type": "code",
   "execution_count": 50,
   "metadata": {},
   "outputs": [
    {
     "data": {
      "text/plain": [
       "name\n",
       "Celltick Technologies    37500000.0\n",
       "Name: raised_amount_usd, dtype: float64"
      ]
     },
     "execution_count": 50,
     "metadata": {},
     "output_type": "execute_result"
    }
   ],
   "source": [
    "#(second best sector count-wise), which company received the highest investment?\n",
    "D2.loc[D2.main_sector.apply(lambda x:x=='Social, Finance, Analytics, Advertising')].groupby(['name']).raised_amount_usd.sum().sort_values(ascending=False).head(1)"
   ]
  },
  {
   "cell_type": "code",
   "execution_count": 51,
   "metadata": {},
   "outputs": [
    {
     "data": {
      "text/html": [
       "<div>\n",
       "<style scoped>\n",
       "    .dataframe tbody tr th:only-of-type {\n",
       "        vertical-align: middle;\n",
       "    }\n",
       "\n",
       "    .dataframe tbody tr th {\n",
       "        vertical-align: top;\n",
       "    }\n",
       "\n",
       "    .dataframe thead th {\n",
       "        text-align: right;\n",
       "    }\n",
       "</style>\n",
       "<table border=\"1\" class=\"dataframe\">\n",
       "  <thead>\n",
       "    <tr style=\"text-align: right;\">\n",
       "      <th></th>\n",
       "      <th>main_sector</th>\n",
       "      <th>Total Amount Invested</th>\n",
       "    </tr>\n",
       "  </thead>\n",
       "  <tbody>\n",
       "    <tr>\n",
       "      <th>6</th>\n",
       "      <td>Others</td>\n",
       "      <td>1.283624e+09</td>\n",
       "    </tr>\n",
       "    <tr>\n",
       "      <th>1</th>\n",
       "      <td>Cleantech / Semiconductors</td>\n",
       "      <td>1.163990e+09</td>\n",
       "    </tr>\n",
       "    <tr>\n",
       "      <th>7</th>\n",
       "      <td>Social, Finance, Analytics, Advertising</td>\n",
       "      <td>1.089404e+09</td>\n",
       "    </tr>\n",
       "    <tr>\n",
       "      <th>5</th>\n",
       "      <td>News, Search and Messaging</td>\n",
       "      <td>6.157462e+08</td>\n",
       "    </tr>\n",
       "    <tr>\n",
       "      <th>2</th>\n",
       "      <td>Entertainment</td>\n",
       "      <td>4.827847e+08</td>\n",
       "    </tr>\n",
       "    <tr>\n",
       "      <th>4</th>\n",
       "      <td>Manufacturing</td>\n",
       "      <td>3.619403e+08</td>\n",
       "    </tr>\n",
       "    <tr>\n",
       "      <th>3</th>\n",
       "      <td>Health</td>\n",
       "      <td>2.145375e+08</td>\n",
       "    </tr>\n",
       "    <tr>\n",
       "      <th>0</th>\n",
       "      <td>Automotive &amp; Sports</td>\n",
       "      <td>1.670516e+08</td>\n",
       "    </tr>\n",
       "  </tbody>\n",
       "</table>\n",
       "</div>"
      ],
      "text/plain": [
       "                               main_sector  Total Amount Invested\n",
       "6                                   Others           1.283624e+09\n",
       "1               Cleantech / Semiconductors           1.163990e+09\n",
       "7  Social, Finance, Analytics, Advertising           1.089404e+09\n",
       "5               News, Search and Messaging           6.157462e+08\n",
       "2                            Entertainment           4.827847e+08\n",
       "4                            Manufacturing           3.619403e+08\n",
       "3                                   Health           2.145375e+08\n",
       "0                      Automotive & Sports           1.670516e+08"
      ]
     },
     "execution_count": 51,
     "metadata": {},
     "output_type": "execute_result"
    }
   ],
   "source": [
    "C2_amount_persector=D2.groupby('main_sector')[\"raised_amount_usd\"].sum().reset_index(name=\"Total Amount Invested\")\n",
    "C2_amount_persector.sort_values(by=['Total Amount Invested'], ascending = False, inplace=True)\n",
    "C2_amount_persector"
   ]
  },
  {
   "cell_type": "code",
   "execution_count": 43,
   "metadata": {},
   "outputs": [
    {
     "name": "stdout",
     "output_type": "stream",
     "text": [
      "5379078691.0\n"
     ]
    }
   ],
   "source": [
    "print(C2_amount_persector['Total Amount Invested'].sum())"
   ]
  },
  {
   "cell_type": "code",
   "execution_count": 53,
   "metadata": {},
   "outputs": [
    {
     "name": "stdout",
     "output_type": "stream",
     "text": [
      "(330, 19)\n"
     ]
    },
    {
     "data": {
      "text/html": [
       "<div>\n",
       "<style scoped>\n",
       "    .dataframe tbody tr th:only-of-type {\n",
       "        vertical-align: middle;\n",
       "    }\n",
       "\n",
       "    .dataframe tbody tr th {\n",
       "        vertical-align: top;\n",
       "    }\n",
       "\n",
       "    .dataframe thead th {\n",
       "        text-align: right;\n",
       "    }\n",
       "</style>\n",
       "<table border=\"1\" class=\"dataframe\">\n",
       "  <thead>\n",
       "    <tr style=\"text-align: right;\">\n",
       "      <th></th>\n",
       "      <th>main_sector</th>\n",
       "      <th>count</th>\n",
       "    </tr>\n",
       "  </thead>\n",
       "  <tbody>\n",
       "    <tr>\n",
       "      <th>6</th>\n",
       "      <td>Others</td>\n",
       "      <td>110</td>\n",
       "    </tr>\n",
       "    <tr>\n",
       "      <th>7</th>\n",
       "      <td>Social, Finance, Analytics, Advertising</td>\n",
       "      <td>60</td>\n",
       "    </tr>\n",
       "    <tr>\n",
       "      <th>5</th>\n",
       "      <td>News, Search and Messaging</td>\n",
       "      <td>52</td>\n",
       "    </tr>\n",
       "    <tr>\n",
       "      <th>2</th>\n",
       "      <td>Entertainment</td>\n",
       "      <td>33</td>\n",
       "    </tr>\n",
       "    <tr>\n",
       "      <th>4</th>\n",
       "      <td>Manufacturing</td>\n",
       "      <td>21</td>\n",
       "    </tr>\n",
       "    <tr>\n",
       "      <th>1</th>\n",
       "      <td>Cleantech / Semiconductors</td>\n",
       "      <td>20</td>\n",
       "    </tr>\n",
       "    <tr>\n",
       "      <th>3</th>\n",
       "      <td>Health</td>\n",
       "      <td>19</td>\n",
       "    </tr>\n",
       "    <tr>\n",
       "      <th>0</th>\n",
       "      <td>Automotive &amp; Sports</td>\n",
       "      <td>13</td>\n",
       "    </tr>\n",
       "  </tbody>\n",
       "</table>\n",
       "</div>"
      ],
      "text/plain": [
       "                               main_sector  count\n",
       "6                                   Others    110\n",
       "7  Social, Finance, Analytics, Advertising     60\n",
       "5               News, Search and Messaging     52\n",
       "2                            Entertainment     33\n",
       "4                            Manufacturing     21\n",
       "1               Cleantech / Semiconductors     20\n",
       "3                                   Health     19\n",
       "0                      Automotive & Sports     13"
      ]
     },
     "execution_count": 53,
     "metadata": {},
     "output_type": "execute_result"
    }
   ],
   "source": [
    "#2. D2 for 1st country UK and funding type venture\n",
    "D3 = merged_df_withmainsector[merged_df_withmainsector['country_code'].apply(lambda x: x=='IND')&merged_df_withmainsector['funding_round_type'].apply(lambda x: x=='venture')&merged_df_withmainsector['raised_amount_usd'].apply(lambda x: (x>=5000000 and x<=15000000))]\n",
    "print(D3.shape) \n",
    "D3.head()\n",
    "D3.groupby('main_sector')[\"company_permalink\"].count().reset_index(name=\"count\").sort_values(by='count', ascending=False)"
   ]
  },
  {
   "cell_type": "code",
   "execution_count": 56,
   "metadata": {},
   "outputs": [
    {
     "data": {
      "text/plain": [
       "name\n",
       "FirstCry.com    39000000.0\n",
       "Name: raised_amount_usd, dtype: float64"
      ]
     },
     "execution_count": 56,
     "metadata": {},
     "output_type": "execute_result"
    }
   ],
   "source": [
    "#(top sector count-wise), which company received the highest investment?- Others sector\n",
    "D3.loc[D3.main_sector.apply(lambda x:x=='Others')].groupby(['name']).raised_amount_usd.sum().sort_values(ascending=False).head(1)"
   ]
  },
  {
   "cell_type": "code",
   "execution_count": 58,
   "metadata": {},
   "outputs": [
    {
     "data": {
      "text/plain": [
       "name\n",
       "Manthan Systems    50700000.0\n",
       "Name: raised_amount_usd, dtype: float64"
      ]
     },
     "execution_count": 58,
     "metadata": {},
     "output_type": "execute_result"
    }
   ],
   "source": [
    "#(top sector count-wise), which company received the highest investment?- News, Search and Messaging sector\n",
    "D3.loc[D3.main_sector.apply(lambda x:x=='Social, Finance, Analytics, Advertising')].groupby(['name']).raised_amount_usd.sum().sort_values(ascending=False).head(1)"
   ]
  },
  {
   "cell_type": "code",
   "execution_count": 54,
   "metadata": {},
   "outputs": [
    {
     "data": {
      "text/html": [
       "<div>\n",
       "<style scoped>\n",
       "    .dataframe tbody tr th:only-of-type {\n",
       "        vertical-align: middle;\n",
       "    }\n",
       "\n",
       "    .dataframe tbody tr th {\n",
       "        vertical-align: top;\n",
       "    }\n",
       "\n",
       "    .dataframe thead th {\n",
       "        text-align: right;\n",
       "    }\n",
       "</style>\n",
       "<table border=\"1\" class=\"dataframe\">\n",
       "  <thead>\n",
       "    <tr style=\"text-align: right;\">\n",
       "      <th></th>\n",
       "      <th>main_sector</th>\n",
       "      <th>Total Amount Invested</th>\n",
       "    </tr>\n",
       "  </thead>\n",
       "  <tbody>\n",
       "    <tr>\n",
       "      <th>6</th>\n",
       "      <td>Others</td>\n",
       "      <td>1.013410e+09</td>\n",
       "    </tr>\n",
       "    <tr>\n",
       "      <th>7</th>\n",
       "      <td>Social, Finance, Analytics, Advertising</td>\n",
       "      <td>5.505496e+08</td>\n",
       "    </tr>\n",
       "    <tr>\n",
       "      <th>5</th>\n",
       "      <td>News, Search and Messaging</td>\n",
       "      <td>4.338345e+08</td>\n",
       "    </tr>\n",
       "    <tr>\n",
       "      <th>2</th>\n",
       "      <td>Entertainment</td>\n",
       "      <td>2.808300e+08</td>\n",
       "    </tr>\n",
       "    <tr>\n",
       "      <th>4</th>\n",
       "      <td>Manufacturing</td>\n",
       "      <td>2.009000e+08</td>\n",
       "    </tr>\n",
       "    <tr>\n",
       "      <th>3</th>\n",
       "      <td>Health</td>\n",
       "      <td>1.677400e+08</td>\n",
       "    </tr>\n",
       "    <tr>\n",
       "      <th>1</th>\n",
       "      <td>Cleantech / Semiconductors</td>\n",
       "      <td>1.653800e+08</td>\n",
       "    </tr>\n",
       "    <tr>\n",
       "      <th>0</th>\n",
       "      <td>Automotive &amp; Sports</td>\n",
       "      <td>1.369000e+08</td>\n",
       "    </tr>\n",
       "  </tbody>\n",
       "</table>\n",
       "</div>"
      ],
      "text/plain": [
       "                               main_sector  Total Amount Invested\n",
       "6                                   Others           1.013410e+09\n",
       "7  Social, Finance, Analytics, Advertising           5.505496e+08\n",
       "5               News, Search and Messaging           4.338345e+08\n",
       "2                            Entertainment           2.808300e+08\n",
       "4                            Manufacturing           2.009000e+08\n",
       "3                                   Health           1.677400e+08\n",
       "1               Cleantech / Semiconductors           1.653800e+08\n",
       "0                      Automotive & Sports           1.369000e+08"
      ]
     },
     "execution_count": 54,
     "metadata": {},
     "output_type": "execute_result"
    }
   ],
   "source": [
    "C3_amount_persector = D3.groupby('main_sector')[\"raised_amount_usd\"].sum().reset_index(name=\"Total Amount Invested\")\n",
    "C3_amount_persector.sort_values(by=['Total Amount Invested'], ascending = False, inplace=True)\n",
    "C3_amount_persector"
   ]
  },
  {
   "cell_type": "code",
   "execution_count": 55,
   "metadata": {},
   "outputs": [
    {
     "name": "stdout",
     "output_type": "stream",
     "text": [
      "2949543602.0\n"
     ]
    }
   ],
   "source": [
    "print(C3_amount_persector['Total Amount Invested'].sum())"
   ]
  },
  {
   "cell_type": "code",
   "execution_count": null,
   "metadata": {},
   "outputs": [],
   "source": []
  }
 ],
 "metadata": {
  "kernelspec": {
   "display_name": "Python 3",
   "language": "python",
   "name": "python3"
  },
  "language_info": {
   "codemirror_mode": {
    "name": "ipython",
    "version": 3
   },
   "file_extension": ".py",
   "mimetype": "text/x-python",
   "name": "python",
   "nbconvert_exporter": "python",
   "pygments_lexer": "ipython3",
   "version": "3.6.5"
  }
 },
 "nbformat": 4,
 "nbformat_minor": 2
}
